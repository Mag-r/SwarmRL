{
 "cells": [
  {
   "cell_type": "code",
   "execution_count": 1,
   "id": "8684fdbc-c289-4c7c-a757-c1aa43a5255c",
   "metadata": {},
   "outputs": [
    {
     "data": {
      "text/plain": [
       "<torch._C.Generator at 0x150f400fee90>"
      ]
     },
     "execution_count": 1,
     "metadata": {},
     "output_type": "execute_result"
    }
   ],
   "source": [
    "import torch\n",
    "torch.random.manual_seed(42)"
   ]
  },
  {
   "cell_type": "code",
   "execution_count": 20,
   "id": "553bc8a5-787a-401d-8c0b-9f14ee771257",
   "metadata": {},
   "outputs": [],
   "source": [
    "n_particles = 2\n",
    "n_time_steps = 5\n",
    "\n",
    "new_log_probs = torch.log(torch.tensor([0.2, 0.3, 0.05, 0.15, 0.3]))\n",
    "\n",
    "old_log_probs = torch.clone(new_log_probs)\n",
    "\n",
    "adv = torch.rand(n_time_steps)\n",
    "\n",
    "expected_loss = -1 * adv\n"
   ]
  },
  {
   "cell_type": "code",
   "execution_count": 23,
   "id": "d20643d3-6c08-4510-8eb7-e1f08210f79c",
   "metadata": {},
   "outputs": [
    {
     "name": "stdout",
     "output_type": "stream",
     "text": [
      "tensor([-1.6094, -1.2040, -2.9957, -1.8971, -1.2040])\n"
     ]
    }
   ],
   "source": [
    "print(new_log_probs)"
   ]
  },
  {
   "cell_type": "code",
   "execution_count": 51,
   "id": "aa06f49c-9e14-4e60-a564-66e78697aed4",
   "metadata": {},
   "outputs": [],
   "source": [
    "def compute_true_value_function(\n",
    "    rewards: list, gamma: float = 0.99, standardize: bool = True\n",
    "):\n",
    "    \"\"\"\n",
    "    Compute the true value function from the rewards.\n",
    "\n",
    "    Parameters\n",
    "    ----------\n",
    "    rewards : List\n",
    "            A tensor of scalar tasks on which the expected value is computed.\n",
    "    gamma : float (default=0.99)\n",
    "            A decay factor for the value of the tasks.\n",
    "    standardize : bool (default=True)\n",
    "            If true, the result is standardized.\n",
    "\n",
    "    Returns\n",
    "    -------\n",
    "    expected_returns : torch.Tensor (n_timesteps, )\n",
    "            expected returns for each particle\n",
    "    \"\"\"\n",
    "    true_value_function = torch.zeros(n_time_steps)\n",
    "    current_value_state = torch.tensor(0)\n",
    "\n",
    "    for i in range(n_time_steps)[::-1]:\n",
    "        current_value_state = rewards[i] + current_value_state * gamma\n",
    "\n",
    "        true_value_function[i] = current_value_state\n",
    "\n",
    "    # Standardize the value function.\n",
    "    if standardize:\n",
    "        mean = torch.mean(torch.tensor(true_value_function), dim=0)\n",
    "        std = torch.std(torch.tensor(true_value_function), dim=0)\n",
    "\n",
    "        true_value_function = (true_value_function - mean) / std\n",
    "\n",
    "    return true_value_function"
   ]
  },
  {
   "cell_type": "code",
   "execution_count": 52,
   "id": "d95e9f26-807f-4167-a35d-325b86872267",
   "metadata": {},
   "outputs": [],
   "source": [
    "rewards = torch.rand(n_time_steps)\n",
    "\n",
    "value_function = compute_true_value_function(\n",
    "            rewards=rewards, gamma=1, standardize=False\n",
    "        )"
   ]
  },
  {
   "cell_type": "code",
   "execution_count": 56,
   "id": "bd1b9a41-c5f7-4953-97ec-c515cf7a11db",
   "metadata": {},
   "outputs": [],
   "source": [
    "rewards = torch.tensor([1,2,3,4,5])"
   ]
  },
  {
   "cell_type": "code",
   "execution_count": 57,
   "id": "908d8b9e-2ccb-4548-993d-343a33caee03",
   "metadata": {},
   "outputs": [
    {
     "ename": "AttributeError",
     "evalue": "'builtin_function_or_method' object has no attribute 'append'",
     "output_type": "error",
     "traceback": [
      "\u001b[0;31m---------------------------------------------------------------------------\u001b[0m",
      "\u001b[0;31mAttributeError\u001b[0m                            Traceback (most recent call last)",
      "Input \u001b[0;32mIn [57]\u001b[0m, in \u001b[0;36m<module>\u001b[0;34m\u001b[0m\n\u001b[1;32m      4\u001b[0m \u001b[38;5;28;01mfor\u001b[39;00m i \u001b[38;5;129;01min\u001b[39;00m \u001b[38;5;28mrange\u001b[39m(n_time_steps)[::\u001b[38;5;241m-\u001b[39m\u001b[38;5;241m1\u001b[39m]:\n\u001b[1;32m      5\u001b[0m     current_value \u001b[38;5;241m=\u001b[39m current_value \u001b[38;5;241m*\u001b[39m gamma \u001b[38;5;241m+\u001b[39m rewards[i]\n\u001b[0;32m----> 6\u001b[0m     \u001b[43mdiscounted_return\u001b[49m\u001b[38;5;241;43m.\u001b[39;49m\u001b[43mappend\u001b[49m(current_value)\n\u001b[1;32m      7\u001b[0m \u001b[38;5;28mprint\u001b[39m(discounted_return[::\u001b[38;5;241m-\u001b[39m\u001b[38;5;241m1\u001b[39m])\n",
      "\u001b[0;31mAttributeError\u001b[0m: 'builtin_function_or_method' object has no attribute 'append'"
     ]
    }
   ],
   "source": [
    "discounted_return = torch.zeros\n",
    "current_value = torch.tensor(0)\n",
    "gamma = 1.0\n",
    "for i in range(n_time_steps)[::-1]:\n",
    "    current_value = current_value * gamma + rewards[i]\n",
    "    discounted_return.append(current_value)\n",
    "print(discounted_return[::-1])"
   ]
  },
  {
   "cell_type": "code",
   "execution_count": 55,
   "id": "ec01d056-2d51-4796-bb77-d72ccfb7a3c0",
   "metadata": {},
   "outputs": [
    {
     "data": {
      "text/plain": [
       "tensor([1.3810, 1.1115, 0.7527, 0.5534, 0.0062])"
      ]
     },
     "execution_count": 55,
     "metadata": {},
     "output_type": "execute_result"
    }
   ],
   "source": [
    "value_function"
   ]
  },
  {
   "cell_type": "code",
   "execution_count": 2,
   "id": "70a363bf-c25c-404e-bc87-2bcef797502e",
   "metadata": {},
   "outputs": [],
   "source": [
    "a = [200,300,400]\n",
    "b = [202,298,402]\n",
    "c = [200,296,404]\n",
    "d = [198,294,402]\n",
    "e = [196,296,400]\n",
    "feature_vector = torch.Tensor([a,b,c,d,e])"
   ]
  },
  {
   "cell_type": "code",
   "execution_count": 3,
   "id": "0f7c987f-0ec1-4ec3-ad14-3625ad110fb9",
   "metadata": {},
   "outputs": [
    {
     "name": "stdout",
     "output_type": "stream",
     "text": [
      "tensor([[200., 300., 400.],\n",
      "        [202., 298., 402.],\n",
      "        [200., 296., 404.],\n",
      "        [198., 294., 402.],\n",
      "        [196., 296., 400.]])\n"
     ]
    }
   ],
   "source": [
    "print(feature_vector)"
   ]
  }
 ],
 "metadata": {
  "kernelspec": {
   "display_name": "Python 3 (ipykernel)",
   "language": "python",
   "name": "python3"
  },
  "language_info": {
   "codemirror_mode": {
    "name": "ipython",
    "version": 3
   },
   "file_extension": ".py",
   "mimetype": "text/x-python",
   "name": "python",
   "nbconvert_exporter": "python",
   "pygments_lexer": "ipython3",
   "version": "3.8.12"
  }
 },
 "nbformat": 4,
 "nbformat_minor": 5
}
