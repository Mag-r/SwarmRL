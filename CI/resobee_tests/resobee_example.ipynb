{
 "cells": [
  {
   "cell_type": "code",
   "execution_count": 2,
   "metadata": {},
   "outputs": [],
   "source": [
    "import swarmrl.engine.resobee as resobee\n",
    "import os\n",
    "infomsg = \"I \"\n",
    "\n",
    "import flax.linen as nn\n",
    "import numpy as np\n",
    "import optax\n",
    "import yaml\n",
    " \n",
    "import swarmrl as srl\n",
    "from swarmrl.actions.actions import Action"
   ]
  },
  {
   "cell_type": "markdown",
   "metadata": {},
   "source": [
    "## RL Configuration"
   ]
  },
  {
   "cell_type": "code",
   "execution_count": 3,
   "metadata": {},
   "outputs": [],
   "source": [
    "\n",
    "class ActoCriticNet(nn.Module):\n",
    "    \"\"\"A simple dense model.\"\"\"\n",
    "\n",
    "    @nn.compact\n",
    "    def __call__(self, x):\n",
    "        x = nn.Dense(features=128)(x)\n",
    "        x = nn.relu(x)\n",
    "        y = nn.Dense(features=1)(x) #Critic\n",
    "        x = nn.Dense(features=4)(x) #Actor\n",
    "        return x, y\n",
    "\n",
    "# Define an exploration policy\n",
    "exploration_policy = srl.exploration_policies.RandomExploration(probability=0.1)\n",
    "\n",
    "# Define a sampling_strategy\n",
    "sampling_strategy = srl.sampling_strategies.GumbelDistribution()\n",
    "\n",
    "# Value function to use\n",
    "value_function = srl.value_functions.ExpectedReturns(\n",
    "    gamma=0.99, standardize=True\n",
    ")\n",
    "\n",
    "\n",
    "#Define the model\n",
    "actor_critic = ActoCriticNet()\n",
    "network = srl.networks.FlaxModel(\n",
    "        flax_model=actor_critic,\n",
    "        optimizer=optax.adam(learning_rate=0.001),\n",
    "        input_shape=(1,),\n",
    "        sampling_strategy=sampling_strategy,\n",
    "        exploration_policy=exploration_policy,\n",
    "    )\n",
    "\n",
    "def scale_function(distance: float):\n",
    "    \"\"\"\n",
    "    Scaling function for the task\n",
    "    \"\"\"\n",
    "    return 1 - distance\n",
    "\n",
    "task = srl.tasks.searching.GradientSensing(\n",
    "    source=np.array([10.0, 10.0]),\n",
    "    decay_function=scale_function,\n",
    "    reward_scale_factor=100,\n",
    "    box_length=np.array([20.0, 20.]),\n",
    ")\n",
    "\n",
    "observable = srl.observables.ConcentrationField(\n",
    "    source=np.array([10.0, 10.0]),\n",
    "    decay_fn=scale_function,\n",
    "    scale_factor=100,\n",
    "    box_length=np.array([20.0, 20.0]),\n",
    "    particle_type=0,\n",
    ")\n",
    "\n",
    "# Define the loss model\n",
    "loss = srl.losses.PolicyGradientLoss(value_function=value_function)\n",
    "\n",
    "actions = {\n",
    "    \"TranslateLeft\": np.array([-10., 0.]),\n",
    "    \"TranslateForward\": np.array([0., 10.]),\n",
    "    \"TranslateRight\": np.array([10., 0.]),\n",
    "    \"MoveBackwards\": np.array([0., -10.]),\n",
    "}\n",
    "protocol=srl.agents.ActorCriticAgent(particle_type=0, network=network, task=task, observable=observable,actions=actions,loss=loss\n",
    "                                     )\n",
    "\n",
    "# Define the force model.\n",
    "rl_trainer=srl.trainers.EpisodicTrainer([protocol])\n"
   ]
  },
  {
   "cell_type": "code",
   "execution_count": 4,
   "metadata": {},
   "outputs": [],
   "source": [
    "resobee_root_path = \"/tikhome/mgern/Desktop/ResoBee/\"\n",
    "\n",
    "build_path = os.path.join(resobee_root_path, \"build\")\n",
    "config_dir = os.path.join(resobee_root_path, 'workflow/projects/debug/parameter-combination-0/seed-0')\n",
    "\n",
    "target = 'many_body_simulation'\n",
    "resobee_executable = os.path.join(resobee_root_path, 'build/src', target)\n"
   ]
  },
  {
   "cell_type": "code",
   "execution_count": 5,
   "metadata": {},
   "outputs": [
    {
     "name": "stdout",
     "output_type": "stream",
     "text": [
      "Binding to tcp address:  tcp://127.0.0.1:5544\n"
     ]
    }
   ],
   "source": [
    "system_runner = resobee.ResoBee(\n",
    "    resobee_executable=resobee_executable,\n",
    "    config_dir=config_dir\n",
    ")"
   ]
  },
  {
   "cell_type": "code",
   "execution_count": 6,
   "metadata": {},
   "outputs": [
    {
     "data": {
      "application/vnd.jupyter.widget-view+json": {
       "model_id": "5be3426cecfd42efbe522d0dabce2fb3",
       "version_major": 2,
       "version_minor": 0
      },
      "text/plain": [
       "Output()"
      ]
     },
     "metadata": {},
     "output_type": "display_data"
    },
    {
     "data": {
      "text/html": [
       "<pre style=\"white-space:pre;overflow-x:auto;line-height:normal;font-family:Menlo,'DejaVu Sans Mono',consolas,'Courier New',monospace\">/tikhome/mgern/conda/envs/manybodyrc/lib/python3.10/site-packages/jax/_src/numpy/lax_numpy.py:2550: UserWarning: \n",
       "Explicitly requested dtype float64 requested in asarray is not available, and will be truncated to dtype float32. \n",
       "To enable more dtypes, set the jax_enable_x64 configuration option or the JAX_ENABLE_X64 shell environment \n",
       "variable. See https://github.com/google/jax#current-gotchas for more.\n",
       "  start = asarray(start, dtype=computation_dtype)\n",
       "</pre>\n"
      ],
      "text/plain": [
       "/tikhome/mgern/conda/envs/manybodyrc/lib/python3.10/site-packages/jax/_src/numpy/lax_numpy.py:2550: UserWarning: \n",
       "Explicitly requested dtype float64 requested in asarray is not available, and will be truncated to dtype float32. \n",
       "To enable more dtypes, set the jax_enable_x64 configuration option or the JAX_ENABLE_X64 shell environment \n",
       "variable. See https://github.com/google/jax#current-gotchas for more.\n",
       "  start = asarray(start, dtype=computation_dtype)\n"
      ]
     },
     "metadata": {},
     "output_type": "display_data"
    },
    {
     "data": {
      "text/html": [
       "<pre style=\"white-space:pre;overflow-x:auto;line-height:normal;font-family:Menlo,'DejaVu Sans Mono',consolas,'Courier New',monospace\">/tikhome/mgern/conda/envs/manybodyrc/lib/python3.10/site-packages/jax/_src/numpy/lax_numpy.py:2551: UserWarning: \n",
       "Explicitly requested dtype float64 requested in asarray is not available, and will be truncated to dtype float32. \n",
       "To enable more dtypes, set the jax_enable_x64 configuration option or the JAX_ENABLE_X64 shell environment \n",
       "variable. See https://github.com/google/jax#current-gotchas for more.\n",
       "  stop = asarray(stop, dtype=computation_dtype)\n",
       "</pre>\n"
      ],
      "text/plain": [
       "/tikhome/mgern/conda/envs/manybodyrc/lib/python3.10/site-packages/jax/_src/numpy/lax_numpy.py:2551: UserWarning: \n",
       "Explicitly requested dtype float64 requested in asarray is not available, and will be truncated to dtype float32. \n",
       "To enable more dtypes, set the jax_enable_x64 configuration option or the JAX_ENABLE_X64 shell environment \n",
       "variable. See https://github.com/google/jax#current-gotchas for more.\n",
       "  stop = asarray(stop, dtype=computation_dtype)\n"
      ]
     },
     "metadata": {},
     "output_type": "display_data"
    },
    {
     "data": {
      "text/html": [
       "<pre style=\"white-space:pre;overflow-x:auto;line-height:normal;font-family:Menlo,'DejaVu Sans Mono',consolas,'Courier New',monospace\">/tikhome/mgern/conda/envs/manybodyrc/lib/python3.10/site-packages/jax/_src/numpy/array_methods.py:64: UserWarning: \n",
       "Explicitly requested dtype float64 requested in astype is not available, and will be truncated to dtype float32. To\n",
       "enable more dtypes, set the jax_enable_x64 configuration option or the JAX_ENABLE_X64 shell environment variable. \n",
       "See https://github.com/google/jax#current-gotchas for more.\n",
       "  return lax_numpy.astype(arr, dtype)\n",
       "</pre>\n"
      ],
      "text/plain": [
       "/tikhome/mgern/conda/envs/manybodyrc/lib/python3.10/site-packages/jax/_src/numpy/array_methods.py:64: UserWarning: \n",
       "Explicitly requested dtype float64 requested in astype is not available, and will be truncated to dtype float32. To\n",
       "enable more dtypes, set the jax_enable_x64 configuration option or the JAX_ENABLE_X64 shell environment variable. \n",
       "See https://github.com/google/jax#current-gotchas for more.\n",
       "  return lax_numpy.astype(arr, dtype)\n"
      ]
     },
     "metadata": {},
     "output_type": "display_data"
    },
    {
     "data": {
      "text/html": [
       "<pre style=\"white-space:pre;overflow-x:auto;line-height:normal;font-family:Menlo,'DejaVu Sans Mono',consolas,'Courier New',monospace\">/tikhome/mgern/conda/envs/manybodyrc/lib/python3.10/site-packages/jax/_src/numpy/lax_numpy.py:2576: UserWarning: \n",
       "Explicitly requested dtype float64 requested in asarray is not available, and will be truncated to dtype float32. \n",
       "To enable more dtypes, set the jax_enable_x64 configuration option or the JAX_ENABLE_X64 shell environment \n",
       "variable. See https://github.com/google/jax#current-gotchas for more.\n",
       "  delta = asarray(nan if endpoint else stop - start, dtype=computation_dtype)\n",
       "</pre>\n"
      ],
      "text/plain": [
       "/tikhome/mgern/conda/envs/manybodyrc/lib/python3.10/site-packages/jax/_src/numpy/lax_numpy.py:2576: UserWarning: \n",
       "Explicitly requested dtype float64 requested in asarray is not available, and will be truncated to dtype float32. \n",
       "To enable more dtypes, set the jax_enable_x64 configuration option or the JAX_ENABLE_X64 shell environment \n",
       "variable. See https://github.com/google/jax#current-gotchas for more.\n",
       "  delta = asarray(nan if endpoint else stop - start, dtype=computation_dtype)\n"
      ]
     },
     "metadata": {},
     "output_type": "display_data"
    },
    {
     "data": {
      "text/html": [
       "<pre style=\"white-space:pre;overflow-x:auto;line-height:normal;font-family:Menlo,'DejaVu Sans Mono',consolas,'Courier New',monospace\"></pre>\n"
      ],
      "text/plain": []
     },
     "metadata": {},
     "output_type": "display_data"
    },
    {
     "data": {
      "text/html": [
       "<pre style=\"white-space:pre;overflow-x:auto;line-height:normal;font-family:Menlo,'DejaVu Sans Mono',consolas,'Courier New',monospace\">\n",
       "</pre>\n"
      ],
      "text/plain": [
       "\n"
      ]
     },
     "metadata": {},
     "output_type": "display_data"
    },
    {
     "data": {
      "text/plain": [
       "array([0.        , 7.67488527, 7.71808386, 7.99895191, 7.78043699,\n",
       "       8.16010761, 8.16417313, 8.47634792, 7.72779131, 7.87290144,\n",
       "       8.10433865])"
      ]
     },
     "execution_count": 6,
     "metadata": {},
     "output_type": "execute_result"
    }
   ],
   "source": [
    "\n",
    "with open(os.path.join(config_dir,\"config.yaml\"), 'r') as file:\n",
    "    data = yaml.safe_load(file)\n",
    "episode_length=data[\"total_time\"]/data[\"integration_time_step\"]\n",
    "\n",
    "rl_trainer.perform_rl_training(\n",
    "            system_runner=system_runner,\n",
    "            n_episodes=10,\n",
    "            episode_length=episode_length,\n",
    "        )\n",
    "\n"
   ]
  }
 ],
 "metadata": {
  "kernelspec": {
   "display_name": "Python 3 (ipykernel)",
   "language": "python",
   "name": "python3"
  },
  "language_info": {
   "codemirror_mode": {
    "name": "ipython",
    "version": 3
   },
   "file_extension": ".py",
   "mimetype": "text/x-python",
   "name": "python",
   "nbconvert_exporter": "python",
   "pygments_lexer": "ipython3",
   "version": "3.10.13"
  }
 },
 "nbformat": 4,
 "nbformat_minor": 1
}
