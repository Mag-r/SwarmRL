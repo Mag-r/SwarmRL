{
 "cells": [
  {
   "cell_type": "code",
   "execution_count": 1,
   "metadata": {},
   "outputs": [
    {
     "name": "stderr",
     "output_type": "stream",
     "text": [
      "Could not find espressomd. Features will not be available\n"
     ]
    }
   ],
   "source": [
    "import swarmrl.engine.resobee as resobee\n",
    "import subprocess\n",
    "import multiprocessing\n",
    "import os\n",
    "infomsg = \"I \""
   ]
  },
  {
   "cell_type": "code",
   "execution_count": 2,
   "metadata": {},
   "outputs": [],
   "source": [
    "resobee_root_path = \"/tikhome/stovey/work/Repositories/swarm-rc\"\n",
    "\n",
    "build_path = os.path.join(resobee_root_path, \"build\")\n",
    "config_dir = os.path.join(resobee_root_path, 'workflow/projects/debug/parameter-combination-0/seed-0')\n",
    "\n",
    "target = 'many_body_simulation'\n",
    "resobee_executable = os.path.join(resobee_root_path, 'build/src', target)\n"
   ]
  },
  {
   "cell_type": "code",
   "execution_count": 6,
   "metadata": {},
   "outputs": [
    {
     "name": "stderr",
     "output_type": "stream",
     "text": [
      "CMAKE_SOURCE_DIR: /tikhome/stovey/work/Repositories/swarm-rc\n"
     ]
    },
    {
     "name": "stdout",
     "output_type": "stream",
     "text": [
      "-- Found HDF5: /usr/lib/x86_64-linux-gnu/hdf5/serial/libhdf5_cpp.so;/usr/lib/x86_64-linux-gnu/hdf5/serial/libhdf5.so;/usr/lib/x86_64-linux-gnu/libcrypto.so;/usr/lib/x86_64-linux-gnu/libcurl.so;/usr/lib/x86_64-linux-gnu/libpthread.a;/usr/lib/x86_64-linux-gnu/libsz.so;/usr/lib/x86_64-linux-gnu/libz.so;/usr/lib/x86_64-linux-gnu/libdl.a;/usr/lib/x86_64-linux-gnu/libm.so (found version \"1.10.7\") found components: CXX \n",
      "-- Found Boost: /usr/lib/x86_64-linux-gnu/cmake/Boost-1.74.0/BoostConfig.cmake (found version \"1.74.0\")  \n",
      "-- Found HDF5: /usr/lib/x86_64-linux-gnu/hdf5/serial/libhdf5.so;/usr/lib/x86_64-linux-gnu/libcrypto.so;/usr/lib/x86_64-linux-gnu/libcurl.so;/usr/lib/x86_64-linux-gnu/libpthread.a;/usr/lib/x86_64-linux-gnu/libsz.so;/usr/lib/x86_64-linux-gnu/libz.so;/usr/lib/x86_64-linux-gnu/libdl.a;/usr/lib/x86_64-linux-gnu/libm.so (found version \"1.10.7\")  \n",
      "-- Found Boost: /usr/include (found version \"1.74.0\") found components: system serialization \n"
     ]
    },
    {
     "name": "stderr",
     "output_type": "stream",
     "text": [
      "CMake Warning at build/_deps/highfive-src/CMakeLists.txt:117 (message):\n",
      "  Unit tests have been DISABLED.\n",
      "\n",
      "\n"
     ]
    },
    {
     "name": "stdout",
     "output_type": "stream",
     "text": [
      "-- Detected CPPZMQ Version - 4.10.0\n",
      "-- CMake libzmq package not found, trying again with pkg-config (normal install of zeromq)\n",
      "-- Found PkgConfig: /usr/bin/pkg-config (found version \"0.29.2\") \n",
      "-- Configuring incomplete, errors occurred!\n"
     ]
    },
    {
     "name": "stderr",
     "output_type": "stream",
     "text": [
      "CMake Error at /tikhome/stovey/miniconda3/envs/zincware/lib/python3.10/site-packages/cmake/data/share/cmake-3.26/Modules/FindPackageHandleStandardArgs.cmake:230 (message):\n",
      "  Could NOT find ZeroMQ (missing: ZeroMQ_LIBRARIES ZeroMQ_INCLUDE_DIRS)\n",
      "Call Stack (most recent call first):\n",
      "  /tikhome/stovey/miniconda3/envs/zincware/lib/python3.10/site-packages/cmake/data/share/cmake-3.26/Modules/FindPackageHandleStandardArgs.cmake:600 (_FPHSA_FAILURE_MESSAGE)\n",
      "  build/_deps/cppzmq-src/libzmq-pkg-config/FindZeroMQ.cmake:34 (find_package_handle_standard_args)\n",
      "  build/_deps/cppzmq-src/CMakeLists.txt:16 (find_package)\n",
      "\n",
      "\n",
      "gmake: *** [Makefile:1113: cmake_check_build_system] Error 1\n"
     ]
    }
   ],
   "source": [
    "from IPython.utils import io\n",
    "with io.capture_output() as captured:\n",
    "\n",
    "    # run this to rebuild the resobee executable\n",
    "    max_workers = multiprocessing.cpu_count()\n",
    "    print(infomsg, f\"Found {max_workers} cores.\")\n",
    "\n",
    "    # print(infomsg)\n",
    "    # print(infomsg, \"Clean previous build...\")\n",
    "    # cmd = ['cmake', '--build', build_path, '--target', 'clean']\n",
    "    # print(infomsg, ' '.join(cmd))\n",
    "    # subprocess.run(cmd)\n",
    "\n",
    "    # print(infomsg)\n",
    "    # print(infomsg, \"Configuring cmake...\")\n",
    "    # cmd = ['cmake', f'-B {build_path}']\n",
    "    # print(infomsg, ' '.join(cmd))\n",
    "    # subprocess.run(cmd)\n",
    "\n",
    "    print(infomsg)\n",
    "    print(infomsg, f\"Building target {target}...\")\n",
    "    cmd = [\"cmake\", \"--build\", build_path, \"--target\", target, \"-j\", str(max_workers)]\n",
    "    print(infomsg, ' '.join(cmd))\n",
    "    subprocess.run(cmd)"
   ]
  },
  {
   "cell_type": "code",
   "execution_count": 4,
   "metadata": {},
   "outputs": [
    {
     "ename": "KeyError",
     "evalue": "'tcp_address'",
     "output_type": "error",
     "traceback": [
      "\u001b[0;31m---------------------------------------------------------------------------\u001b[0m",
      "\u001b[0;31mKeyError\u001b[0m                                  Traceback (most recent call last)",
      "Cell \u001b[0;32mIn [4], line 1\u001b[0m\n\u001b[0;32m----> 1\u001b[0m system_runner \u001b[38;5;241m=\u001b[39m \u001b[43mresobee\u001b[49m\u001b[38;5;241;43m.\u001b[39;49m\u001b[43mResoBee\u001b[49m\u001b[43m(\u001b[49m\n\u001b[1;32m      2\u001b[0m \u001b[43m    \u001b[49m\u001b[43mresobee_executable\u001b[49m\u001b[38;5;241;43m=\u001b[39;49m\u001b[43mresobee_executable\u001b[49m\u001b[43m,\u001b[49m\n\u001b[1;32m      3\u001b[0m \u001b[43m    \u001b[49m\u001b[43mconfig_dir\u001b[49m\u001b[38;5;241;43m=\u001b[39;49m\u001b[43mconfig_dir\u001b[49m\n\u001b[1;32m      4\u001b[0m \u001b[43m)\u001b[49m\n",
      "File \u001b[0;32m~/work/Repositories/SWARM/SwarmRL/swarmrl/engine/resobee.py:38\u001b[0m, in \u001b[0;36mResoBee.__init__\u001b[0;34m(self, resobee_executable, config_dir)\u001b[0m\n\u001b[1;32m     36\u001b[0m \u001b[38;5;28mself\u001b[39m\u001b[38;5;241m.\u001b[39mcontext \u001b[38;5;241m=\u001b[39m zmq\u001b[38;5;241m.\u001b[39mContext()\n\u001b[1;32m     37\u001b[0m \u001b[38;5;28mself\u001b[39m\u001b[38;5;241m.\u001b[39msocket \u001b[38;5;241m=\u001b[39m \u001b[38;5;28mself\u001b[39m\u001b[38;5;241m.\u001b[39mcontext\u001b[38;5;241m.\u001b[39msocket(zmq\u001b[38;5;241m.\u001b[39mREP)\n\u001b[0;32m---> 38\u001b[0m \u001b[38;5;28mprint\u001b[39m(\u001b[38;5;124m\"\u001b[39m\u001b[38;5;124mBinding to tcp address: \u001b[39m\u001b[38;5;124m\"\u001b[39m, \u001b[38;5;28;43mself\u001b[39;49m\u001b[38;5;241;43m.\u001b[39;49m\u001b[43mconfig\u001b[49m\u001b[43m[\u001b[49m\u001b[38;5;124;43m\"\u001b[39;49m\u001b[38;5;124;43mtcp_address\u001b[39;49m\u001b[38;5;124;43m\"\u001b[39;49m\u001b[43m]\u001b[49m)\n\u001b[1;32m     39\u001b[0m \u001b[38;5;28mself\u001b[39m\u001b[38;5;241m.\u001b[39msocket\u001b[38;5;241m.\u001b[39mbind(\u001b[38;5;28mstr\u001b[39m(\u001b[38;5;28mself\u001b[39m\u001b[38;5;241m.\u001b[39mconfig[\u001b[38;5;124m\"\u001b[39m\u001b[38;5;124mtcp_address\u001b[39m\u001b[38;5;124m\"\u001b[39m]))\n",
      "\u001b[0;31mKeyError\u001b[0m: 'tcp_address'"
     ]
    }
   ],
   "source": [
    "system_runner = resobee.ResoBee(\n",
    "    resobee_executable=resobee_executable,\n",
    "    config_dir=config_dir\n",
    ")"
   ]
  },
  {
   "cell_type": "code",
   "execution_count": null,
   "metadata": {},
   "outputs": [],
   "source": [
    "# todo: cannot overwrite h5 output file for some reason\n",
    "\n",
    "system_runner.integrate(0, None)\n"
   ]
  },
  {
   "cell_type": "code",
   "execution_count": null,
   "metadata": {},
   "outputs": [],
   "source": []
  }
 ],
 "metadata": {
  "kernelspec": {
   "display_name": "Python 3 (ipykernel)",
   "language": "python",
   "name": "python3"
  },
  "language_info": {
   "codemirror_mode": {
    "name": "ipython",
    "version": 3
   },
   "file_extension": ".py",
   "mimetype": "text/x-python",
   "name": "python",
   "nbconvert_exporter": "python",
   "pygments_lexer": "ipython3",
   "version": "3.10.6"
  }
 },
 "nbformat": 4,
 "nbformat_minor": 1
}
