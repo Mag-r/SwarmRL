{
 "cells": [
  {
   "cell_type": "code",
   "execution_count": null,
   "metadata": {
    "collapsed": true
   },
   "outputs": [],
   "source": [
    "import swarmrl.engine.resobee as resobee\n",
    "import subprocess\n",
    "import multiprocessing\n",
    "import os\n",
    "infomsg = \"I \""
   ]
  },
  {
   "cell_type": "code",
   "execution_count": null,
   "outputs": [],
   "source": [
    "resobee_root_path = \"/home/ac141173/repos/swarm-rc/\"\n",
    "\n",
    "build_path = os.path.join(resobee_root_path, \"build\")\n",
    "config_dir = os.path.join(resobee_root_path, 'workflow/projects/debug/parameter-combination-0/seed-0')\n",
    "\n",
    "target = 'many_body_simulation'\n",
    "resobee_executable = os.path.join(resobee_root_path, 'build/src', target)\n"
   ],
   "metadata": {
    "collapsed": false
   }
  },
  {
   "cell_type": "code",
   "execution_count": null,
   "outputs": [],
   "source": [
    "from IPython.utils import io\n",
    "with io.capture_output() as captured:\n",
    "\n",
    "    # run this to rebuild the resobee executable\n",
    "    max_workers = multiprocessing.cpu_count()\n",
    "    print(infomsg, f\"Found {max_workers} cores.\")\n",
    "\n",
    "    # print(infomsg)\n",
    "    # print(infomsg, \"Clean previous build...\")\n",
    "    # cmd = ['cmake', '--build', build_path, '--target', 'clean']\n",
    "    # print(infomsg, ' '.join(cmd))\n",
    "    # subprocess.run(cmd)\n",
    "\n",
    "    # print(infomsg)\n",
    "    # print(infomsg, \"Configuring cmake...\")\n",
    "    # cmd = ['cmake', f'-B {build_path}']\n",
    "    # print(infomsg, ' '.join(cmd))\n",
    "    # subprocess.run(cmd)\n",
    "\n",
    "    print(infomsg)\n",
    "    print(infomsg, f\"Building target {target}...\")\n",
    "    cmd = [\"cmake\", \"--build\", build_path, \"--target\", target, \"-j\", str(max_workers)]\n",
    "    print(infomsg, ' '.join(cmd))\n",
    "    subprocess.run(cmd)"
   ],
   "metadata": {
    "collapsed": false
   }
  },
  {
   "cell_type": "code",
   "execution_count": null,
   "outputs": [],
   "source": [
    "system_runner = resobee.ResoBee(\n",
    "    resobee_executable=resobee_executable,\n",
    "    config_dir=config_dir\n",
    ")"
   ],
   "metadata": {
    "collapsed": false
   }
  },
  {
   "cell_type": "code",
   "execution_count": null,
   "outputs": [],
   "source": [
    "# todo: cannot overwrite h5 output file for some reason\n",
    "\n",
    "system_runner.integrate(0, None)\n"
   ],
   "metadata": {
    "collapsed": false
   }
  },
  {
   "cell_type": "code",
   "execution_count": null,
   "outputs": [],
   "source": [],
   "metadata": {
    "collapsed": false
   }
  }
 ],
 "metadata": {
  "kernelspec": {
   "display_name": "Python 3",
   "language": "python",
   "name": "python3"
  },
  "language_info": {
   "codemirror_mode": {
    "name": "ipython",
    "version": 2
   },
   "file_extension": ".py",
   "mimetype": "text/x-python",
   "name": "python",
   "nbconvert_exporter": "python",
   "pygments_lexer": "ipython2",
   "version": "2.7.6"
  }
 },
 "nbformat": 4,
 "nbformat_minor": 0
}
