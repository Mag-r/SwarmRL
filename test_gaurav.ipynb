{
 "cells": [
  {
   "cell_type": "code",
   "execution_count": 1,
   "metadata": {},
   "outputs": [
    {
     "name": "stderr",
     "output_type": "stream",
     "text": [
      "2024-08-26 10:39:08.208362: W external/xla/xla/service/gpu/nvptx_compiler.cc:836] The NVIDIA driver's CUDA version is 12.4 which is older than the PTX compiler version (12.6.20). Because the driver is older than the PTX compiler version, XLA is disabling parallel compilation, which may slow down compilation. You should update your NVIDIA driver or use the NVIDIA-provided CUDA forward compatibility packages.\n"
     ]
    },
    {
     "name": "stdout",
     "output_type": "stream",
     "text": [
      "Jupyter environment detected. Enabling Open3D WebVisualizer.\n",
      "[Open3D INFO] WebRTC GUI backend enabled.\n",
      "[Open3D INFO] WebRTCWindowSystem: HTTP handshake server disabled.\n"
     ]
    }
   ],
   "source": [
    "import swarmrl as srl\n",
    "\n",
    "from swarmrl.observables.top_down_image import TopDownImage\n",
    "import numpy as np\n",
    "import matplotlib.pyplot as plt\n",
    "from swarmrl.components import Colloid\n",
    "import open3d as o3d\n",
    "import logging\n",
    "import flax.linen as nn\n",
    "from swarmrl.tasks.dummy_task import DummyTask\n",
    "import optax\n",
    "from swarmrl.actions.mpi_action import MPIAction\n",
    "from swarmrl.engine.gaurav_sim import *\n",
    "from swarmrl.trainers.global_continuous_trainer import GlobalContinuousTrainer as Trainer\n",
    "import pint\n"
   ]
  },
  {
   "cell_type": "code",
   "execution_count": 2,
   "metadata": {},
   "outputs": [
    {
     "name": "stdout",
     "output_type": "stream",
     "text": [
      "[Open3D INFO] EGL headless mode enabled.\n",
      "WARNING: Using soft CircularBuffer (6144 KiB)\n",
      "FEngine (64 bits) created at 0x620f759c2de0 (threading is enabled)\n",
      "EGL(1.5)\n",
      "OpenGL(4.1)\n"
     ]
    }
   ],
   "source": [
    "logging.basicConfig(level=logging.WARNING)\n",
    "\n",
    "resolution=128\n",
    "\n",
    "rafts = o3d.io.read_triangle_mesh(\"rafts.stl\")\n",
    "\n",
    "obs = TopDownImage(\n",
    "    np.array([10000.0, 10000.0, 0.1]), image_resolution=np.array([resolution]*2), particle_type=0, custom_mesh=rafts, is_2D=True\n",
    ")\n",
    "task = DummyTask()\n",
    "\n",
    "\n",
    "class ActoCriticNet(nn.Module):\n",
    "    \"\"\"A simple dense model.\"\"\"\n",
    "\n",
    "    @nn.compact\n",
    "    def __call__(self, x):\n",
    "        x = x.flatten()\n",
    "        y = nn.Dense(features=2)(x)\n",
    "        x = nn.Dense(features=2)(x)\n",
    "        x = nn.relu(x)\n",
    "        y = nn.relu(y)\n",
    "\n",
    "        y = nn.Dense(features=12)(y)\n",
    "        x = nn.Dense(features=12)(x)\n",
    "        x = nn.relu(x)\n",
    "        y = nn.relu(y)\n",
    "        y = nn.Dense(features=1)(x)  # Critic\n",
    "        x = nn.Dense(features=4)(x)  # Actor\n",
    "        return x, y\n",
    "\n",
    "\n",
    "exploration_policy = srl.exploration_policies.RandomExploration(probability=0.1)\n",
    "\n",
    "# Define a sampling_strategy\n",
    "sampling_strategy = srl.sampling_strategies.GumbelDistribution()\n",
    "\n",
    "# Value function to use\n",
    "value_function = srl.value_functions.ExpectedReturns(gamma=0.1, standardize=True)\n",
    "\n",
    "# Define the model\n",
    "actor_critic = ActoCriticNet()\n",
    "\n"
   ]
  },
  {
   "cell_type": "code",
   "execution_count": 3,
   "metadata": {},
   "outputs": [],
   "source": [
    "ureg = pint.UnitRegistry()\n",
    "Q_ = ureg.Quantity\n",
    "\n",
    "# Define parameters in SI units\n",
    "params = GauravSimParams(\n",
    "            ureg=ureg,\n",
    "            box_length=Q_(10000, \"micrometer\"),\n",
    "            time_step=Q_(1e-3, \"second\"),\n",
    "            time_slice=Q_(1, \"second\"),\n",
    "            snapshot_interval=Q_(0.002, \"second\"),\n",
    "            raft_radius=Q_(150, \"micrometer\"),\n",
    "            raft_repulsion_strength=Q_(1e-7, \"newton\"),\n",
    "            dynamic_viscosity=Q_(1e-3, \"Pa * s\"),\n",
    "            fluid_density=Q_(1000, \"kg / m**3\"),\n",
    "            lubrication_threshold=Q_(15, \"micrometer\"),\n",
    "            magnetic_constant=Q_(4 * np.pi * 1e-7, \"newton /ampere**2\"),\n",
    "            capillary_force_data_path=pathlib.Path(\n",
    "                \"/work/clohrmann/mpi_collab/capillaryForceAndTorque_sym6\"\n",
    "            ),  # TODO\n",
    "        )\n",
    "\n",
    "# Initialize the simulation system\n",
    "system_runner = GauravSim(params=params, out_folder=\"./\", with_precalc_capillary=True,save_h5=False)\n",
    "mag_mom = Q_(1e-8, \"ampere * meter**2\")\n",
    "for i in range(2):\n",
    "    system_runner.add_colloids(pos = [np.random.rand()*10000,np.random.rand()*10000, 0]* ureg.micrometer, alpha = np.random.rand()*2*np.pi, magnetic_moment = 1E-8* ureg.ampere * ureg.meter**2)\n",
    "\n",
    "\n",
    "# system_runner.add_colloids(Q_(np.array([300, 500]), \"micrometer\"), 0, mag_mom)\n",
    "# system_runner.add_colloids(Q_(np.array([1000, 500]), \"micrometer\"), np.pi / 2, mag_mom)\n",
    "# system_runner.add_colloids(\n",
    "#     Q_(np.array([700, 1000]), \"micrometer\"), np.pi / 2 - 0.1, mag_mom\n",
    "# )"
   ]
  },
  {
   "cell_type": "code",
   "execution_count": 4,
   "metadata": {},
   "outputs": [
    {
     "name": "stdout",
     "output_type": "stream",
     "text": [
      "\n",
      "\u001b[3m                             ActoCriticNet Summary                              \u001b[0m\n",
      "┏━━━━━━━━━┳━━━━━━━━━━━━━━━┳━━━━━━━━━━━━━━━━━━┳━━━━━━━━━━━━━━┳━━━━━━━━━━━━━━━━━━┓\n",
      "┃\u001b[1m \u001b[0m\u001b[1mpath   \u001b[0m\u001b[1m \u001b[0m┃\u001b[1m \u001b[0m\u001b[1mmodule       \u001b[0m\u001b[1m \u001b[0m┃\u001b[1m \u001b[0m\u001b[1minputs          \u001b[0m\u001b[1m \u001b[0m┃\u001b[1m \u001b[0m\u001b[1moutputs     \u001b[0m\u001b[1m \u001b[0m┃\u001b[1m \u001b[0m\u001b[1mparams          \u001b[0m\u001b[1m \u001b[0m┃\n",
      "┡━━━━━━━━━╇━━━━━━━━━━━━━━━╇━━━━━━━━━━━━━━━━━━╇━━━━━━━━━━━━━━╇━━━━━━━━━━━━━━━━━━┩\n",
      "│         │ ActoCriticNet │ \u001b[2mfloat32\u001b[0m[128,128] │ - \u001b[2mfloat32\u001b[0m[4] │                  │\n",
      "│         │               │                  │ - \u001b[2mfloat32\u001b[0m[1] │                  │\n",
      "├─────────┼───────────────┼──────────────────┼──────────────┼──────────────────┤\n",
      "│ Dense_0 │ Dense         │ \u001b[2mfloat32\u001b[0m[16384]   │ \u001b[2mfloat32\u001b[0m[2]   │ bias: \u001b[2mfloat32\u001b[0m[2] │\n",
      "│         │               │                  │              │ kernel:          │\n",
      "│         │               │                  │              │ \u001b[2mfloat32\u001b[0m[16384,2] │\n",
      "│         │               │                  │              │                  │\n",
      "│         │               │                  │              │ \u001b[1m32,770 \u001b[0m\u001b[1;2m(131.1 \u001b[0m   │\n",
      "│         │               │                  │              │ \u001b[1;2mKB)\u001b[0m              │\n",
      "├─────────┼───────────────┼──────────────────┼──────────────┼──────────────────┤\n",
      "│ Dense_1 │ Dense         │ \u001b[2mfloat32\u001b[0m[16384]   │ \u001b[2mfloat32\u001b[0m[2]   │ bias: \u001b[2mfloat32\u001b[0m[2] │\n",
      "│         │               │                  │              │ kernel:          │\n",
      "│         │               │                  │              │ \u001b[2mfloat32\u001b[0m[16384,2] │\n",
      "│         │               │                  │              │                  │\n",
      "│         │               │                  │              │ \u001b[1m32,770 \u001b[0m\u001b[1;2m(131.1 \u001b[0m   │\n",
      "│         │               │                  │              │ \u001b[1;2mKB)\u001b[0m              │\n",
      "├─────────┼───────────────┼──────────────────┼──────────────┼──────────────────┤\n",
      "│ Dense_2 │ Dense         │ \u001b[2mfloat32\u001b[0m[2]       │ \u001b[2mfloat32\u001b[0m[12]  │ bias:            │\n",
      "│         │               │                  │              │ \u001b[2mfloat32\u001b[0m[12]      │\n",
      "│         │               │                  │              │ kernel:          │\n",
      "│         │               │                  │              │ \u001b[2mfloat32\u001b[0m[2,12]    │\n",
      "│         │               │                  │              │                  │\n",
      "│         │               │                  │              │ \u001b[1m36 \u001b[0m\u001b[1;2m(144 B)\u001b[0m       │\n",
      "├─────────┼───────────────┼──────────────────┼──────────────┼──────────────────┤\n",
      "│ Dense_3 │ Dense         │ \u001b[2mfloat32\u001b[0m[2]       │ \u001b[2mfloat32\u001b[0m[12]  │ bias:            │\n",
      "│         │               │                  │              │ \u001b[2mfloat32\u001b[0m[12]      │\n",
      "│         │               │                  │              │ kernel:          │\n",
      "│         │               │                  │              │ \u001b[2mfloat32\u001b[0m[2,12]    │\n",
      "│         │               │                  │              │                  │\n",
      "│         │               │                  │              │ \u001b[1m36 \u001b[0m\u001b[1;2m(144 B)\u001b[0m       │\n",
      "├─────────┼───────────────┼──────────────────┼──────────────┼──────────────────┤\n",
      "│ Dense_4 │ Dense         │ \u001b[2mfloat32\u001b[0m[12]      │ \u001b[2mfloat32\u001b[0m[1]   │ bias: \u001b[2mfloat32\u001b[0m[1] │\n",
      "│         │               │                  │              │ kernel:          │\n",
      "│         │               │                  │              │ \u001b[2mfloat32\u001b[0m[12,1]    │\n",
      "│         │               │                  │              │                  │\n",
      "│         │               │                  │              │ \u001b[1m13 \u001b[0m\u001b[1;2m(52 B)\u001b[0m        │\n",
      "├─────────┼───────────────┼──────────────────┼──────────────┼──────────────────┤\n",
      "│ Dense_5 │ Dense         │ \u001b[2mfloat32\u001b[0m[12]      │ \u001b[2mfloat32\u001b[0m[4]   │ bias: \u001b[2mfloat32\u001b[0m[4] │\n",
      "│         │               │                  │              │ kernel:          │\n",
      "│         │               │                  │              │ \u001b[2mfloat32\u001b[0m[12,4]    │\n",
      "│         │               │                  │              │                  │\n",
      "│         │               │                  │              │ \u001b[1m52 \u001b[0m\u001b[1;2m(208 B)\u001b[0m       │\n",
      "├─────────┼───────────────┼──────────────────┼──────────────┼──────────────────┤\n",
      "│\u001b[1m \u001b[0m\u001b[1m       \u001b[0m\u001b[1m \u001b[0m│\u001b[1m \u001b[0m\u001b[1m             \u001b[0m\u001b[1m \u001b[0m│\u001b[1m \u001b[0m\u001b[1m                \u001b[0m\u001b[1m \u001b[0m│\u001b[1m \u001b[0m\u001b[1m       Total\u001b[0m\u001b[1m \u001b[0m│\u001b[1m \u001b[0m\u001b[1m65,677 \u001b[0m\u001b[1;2m(262.7 \u001b[0m\u001b[1m  \u001b[0m\u001b[1m \u001b[0m│\n",
      "│\u001b[1m         \u001b[0m│\u001b[1m               \u001b[0m│\u001b[1m                  \u001b[0m│\u001b[1m              \u001b[0m│\u001b[1m \u001b[0m\u001b[1;2mKB)\u001b[0m\u001b[1m             \u001b[0m\u001b[1m \u001b[0m│\n",
      "└─────────┴───────────────┴──────────────────┴──────────────┴──────────────────┘\n",
      "\u001b[1m                                                                                \u001b[0m\n",
      "\u001b[1m                      Total Parameters: 65,677 \u001b[0m\u001b[1;2m(262.7 KB)\u001b[0m\u001b[1m                       \u001b[0m\n",
      "\n",
      "\n"
     ]
    }
   ],
   "source": [
    "\n",
    "network = srl.networks.ContinuousFlaxModel(\n",
    "    flax_model=actor_critic,\n",
    "    optimizer=optax.adam(learning_rate=0.01),\n",
    "    input_shape=(resolution,resolution),\n",
    "    sampling_strategy=sampling_strategy,\n",
    "    exploration_policy=exploration_policy,\n",
    ")\n",
    "loss = srl.losses.PolicyGradientLoss(value_function=value_function)\n",
    "\n",
    "\n",
    "actions = {\n",
    "    0: MPIAction(\n",
    "        amplitudes=np.array([0, 0]),\n",
    "        phases=np.array([0, 0]),\n",
    "        frequencies=np.array([0, 0]),\n",
    "        offsets=np.array([0, 0]),\n",
    "    ),\n",
    "    1: MPIAction(\n",
    "        amplitudes=np.array([0, 0]) ,\n",
    "        phases=np.array([0, 0]) ,\n",
    "        frequencies=np.array([0, 0]) ,\n",
    "        offsets=np.array([0, 0]) ,\n",
    "    ),\n",
    "    2: MPIAction(\n",
    "        amplitudes=np.array([0, 0]) ,\n",
    "        phases=np.array([0, 0]) ,\n",
    "        frequencies=np.array([0, 0]) ,\n",
    "        offsets=np.array([0, 0]) ,\n",
    "    ),\n",
    "    3: MPIAction(\n",
    "        amplitudes=np.array([0, 0]) ,\n",
    "        phases=np.array([0, 0]) ,\n",
    "        frequencies=np.array([0, 0]) ,\n",
    "        offsets=np.array([0, 0]) ,\n",
    "    ),\n",
    "}\n",
    "protocol = srl.agents.GlobalActorCriticAgent(\n",
    "    particle_type=0,\n",
    "    network=network,\n",
    "    task=task,\n",
    "    observable=obs,\n",
    "    actions=actions,\n",
    "    loss=loss,\n",
    ")\n",
    "\n",
    "# Define the force model.\n",
    "rl_trainer = Trainer([protocol])"
   ]
  },
  {
   "cell_type": "code",
   "execution_count": 5,
   "metadata": {},
   "outputs": [
    {
     "data": {
      "application/vnd.jupyter.widget-view+json": {
       "model_id": "97ccddf0582f4e6aa7eea4d1608d4e18",
       "version_major": 2,
       "version_minor": 0
      },
      "text/plain": [
       "Output()"
      ]
     },
     "metadata": {},
     "output_type": "display_data"
    },
    {
     "data": {
      "text/html": [
       "<pre style=\"white-space:pre;overflow-x:auto;line-height:normal;font-family:Menlo,'DejaVu Sans Mono',consolas,'Courier New',monospace\"></pre>\n"
      ],
      "text/plain": []
     },
     "metadata": {},
     "output_type": "display_data"
    },
    {
     "data": {
      "text/html": [
       "<pre style=\"white-space:pre;overflow-x:auto;line-height:normal;font-family:Menlo,'DejaVu Sans Mono',consolas,'Courier New',monospace\">\n",
       "</pre>\n"
      ],
      "text/plain": [
       "\n"
      ]
     },
     "metadata": {},
     "output_type": "display_data"
    },
    {
     "ename": "TypeError",
     "evalue": "translate(): incompatible function arguments. The following argument types are supported:\n    1. (self: open3d.cuda.pybind.geometry.Geometry3D, translation: numpy.ndarray[numpy.float64[3, 1]], relative: bool = True) -> open3d.cuda.pybind.geometry.Geometry3D\n\nInvoked with: TriangleMesh with 443612 points and 201368 triangles., array([300., 500.])",
     "output_type": "error",
     "traceback": [
      "\u001b[0;31m---------------------------------------------------------------------------\u001b[0m",
      "\u001b[0;31mTypeError\u001b[0m                                 Traceback (most recent call last)",
      "Cell \u001b[0;32mIn[5], line 1\u001b[0m\n\u001b[0;32m----> 1\u001b[0m \u001b[43mrl_trainer\u001b[49m\u001b[38;5;241;43m.\u001b[39;49m\u001b[43mperform_rl_training\u001b[49m\u001b[43m(\u001b[49m\u001b[43msystem_runner\u001b[49m\u001b[43m,\u001b[49m\u001b[43m \u001b[49m\u001b[38;5;241;43m2\u001b[39;49m\u001b[43m,\u001b[49m\u001b[43m \u001b[49m\u001b[38;5;241;43m10\u001b[39;49m\u001b[43m)\u001b[49m\n",
      "File \u001b[0;32m~/Desktop/SwarmRL/swarmrl/trainers/global_continuous_trainer.py:77\u001b[0m, in \u001b[0;36mGlobalContinuousTrainer.perform_rl_training\u001b[0;34m(self, system_runner, n_episodes, episode_length, load_bar)\u001b[0m\n\u001b[1;32m     68\u001b[0m task \u001b[38;5;241m=\u001b[39m progress\u001b[38;5;241m.\u001b[39madd_task(\n\u001b[1;32m     69\u001b[0m     \u001b[38;5;124m\"\u001b[39m\u001b[38;5;124mRL Training\u001b[39m\u001b[38;5;124m\"\u001b[39m,\n\u001b[1;32m     70\u001b[0m     total\u001b[38;5;241m=\u001b[39mn_episodes,\n\u001b[0;32m   (...)\u001b[0m\n\u001b[1;32m     74\u001b[0m     visible\u001b[38;5;241m=\u001b[39mload_bar,\n\u001b[1;32m     75\u001b[0m )\n\u001b[1;32m     76\u001b[0m \u001b[38;5;28;01mfor\u001b[39;00m _ \u001b[38;5;129;01min\u001b[39;00m \u001b[38;5;28mrange\u001b[39m(n_episodes):\n\u001b[0;32m---> 77\u001b[0m     \u001b[38;5;28;43mself\u001b[39;49m\u001b[38;5;241;43m.\u001b[39;49m\u001b[43mengine\u001b[49m\u001b[38;5;241;43m.\u001b[39;49m\u001b[43mintegrate\u001b[49m\u001b[43m(\u001b[49m\u001b[43mepisode_length\u001b[49m\u001b[43m,\u001b[49m\u001b[43m \u001b[49m\u001b[43mforce_fn\u001b[49m\u001b[43m)\u001b[49m\n\u001b[1;32m     78\u001b[0m     force_fn, current_reward, killed \u001b[38;5;241m=\u001b[39m \u001b[38;5;28mself\u001b[39m\u001b[38;5;241m.\u001b[39mupdate_rl()\n\u001b[1;32m     80\u001b[0m     \u001b[38;5;28;01mif\u001b[39;00m killed:\n",
      "File \u001b[0;32m~/Desktop/SwarmRL/swarmrl/engine/gaurav_sim.py:679\u001b[0m, in \u001b[0;36mGauravSim.integrate\u001b[0;34m(self, n_slices, model)\u001b[0m\n\u001b[1;32m    672\u001b[0m n_snapshots_per_slice \u001b[38;5;241m=\u001b[39m \u001b[38;5;28mint\u001b[39m(\n\u001b[1;32m    673\u001b[0m     \u001b[38;5;28mround\u001b[39m(\u001b[38;5;28mself\u001b[39m\u001b[38;5;241m.\u001b[39mparams\u001b[38;5;241m.\u001b[39mtime_slice \u001b[38;5;241m/\u001b[39m \u001b[38;5;28mself\u001b[39m\u001b[38;5;241m.\u001b[39mparams\u001b[38;5;241m.\u001b[39msnapshot_interval)\n\u001b[1;32m    674\u001b[0m )\n\u001b[1;32m    675\u001b[0m \u001b[38;5;28;01mfor\u001b[39;00m _ \u001b[38;5;129;01min\u001b[39;00m \u001b[38;5;28mrange\u001b[39m(n_slices):\n\u001b[1;32m    676\u001b[0m     \u001b[38;5;66;03m# Check for a model termination condition.\u001b[39;00m\n\u001b[1;32m    677\u001b[0m     \u001b[38;5;66;03m# if model.kill_switch:\u001b[39;00m\n\u001b[1;32m    678\u001b[0m     \u001b[38;5;66;03m#     break\u001b[39;00m\n\u001b[0;32m--> 679\u001b[0m     \u001b[38;5;28mself\u001b[39m\u001b[38;5;241m.\u001b[39mcurrent_action \u001b[38;5;241m=\u001b[39m \u001b[43mmodel\u001b[49m\u001b[38;5;241;43m.\u001b[39;49m\u001b[43mcalc_action\u001b[49m\u001b[43m(\u001b[49m\u001b[38;5;28;43mself\u001b[39;49m\u001b[38;5;241;43m.\u001b[39;49m\u001b[43mcolloids\u001b[49m\u001b[43m)\u001b[49m[\u001b[38;5;241m0\u001b[39m] \n\u001b[1;32m    680\u001b[0m     sol \u001b[38;5;241m=\u001b[39m scipy\u001b[38;5;241m.\u001b[39mintegrate\u001b[38;5;241m.\u001b[39msolve_ivp(\n\u001b[1;32m    681\u001b[0m         rhs,\n\u001b[1;32m    682\u001b[0m         (\u001b[38;5;28mself\u001b[39m\u001b[38;5;241m.\u001b[39mtime, \u001b[38;5;28mself\u001b[39m\u001b[38;5;241m.\u001b[39mtime \u001b[38;5;241m+\u001b[39m \u001b[38;5;28mself\u001b[39m\u001b[38;5;241m.\u001b[39mparams\u001b[38;5;241m.\u001b[39mtime_slice),\n\u001b[0;32m   (...)\u001b[0m\n\u001b[1;32m    692\u001b[0m         ),\n\u001b[1;32m    693\u001b[0m     )\n\u001b[1;32m    694\u001b[0m     \u001b[38;5;28;01mif\u001b[39;00m \u001b[38;5;129;01mnot\u001b[39;00m sol\u001b[38;5;241m.\u001b[39msuccess:\n",
      "File \u001b[0;32m~/Desktop/SwarmRL/swarmrl/force_functions/global_force_fn.py:73\u001b[0m, in \u001b[0;36mGlobalForceFunction.calc_action\u001b[0;34m(self, colloids)\u001b[0m\n\u001b[1;32m     71\u001b[0m switches \u001b[38;5;241m=\u001b[39m []\n\u001b[1;32m     72\u001b[0m \u001b[38;5;28;01mfor\u001b[39;00m agent \u001b[38;5;129;01min\u001b[39;00m \u001b[38;5;28mself\u001b[39m\u001b[38;5;241m.\u001b[39magents:\n\u001b[0;32m---> 73\u001b[0m     action \u001b[38;5;241m=\u001b[39m \u001b[38;5;28;43mself\u001b[39;49m\u001b[38;5;241;43m.\u001b[39;49m\u001b[43magents\u001b[49m\u001b[43m[\u001b[49m\u001b[43magent\u001b[49m\u001b[43m]\u001b[49m\u001b[38;5;241;43m.\u001b[39;49m\u001b[43mcalc_action\u001b[49m\u001b[43m(\u001b[49m\u001b[43mcolloids\u001b[49m\u001b[38;5;241;43m=\u001b[39;49m\u001b[43mcolloids\u001b[49m\u001b[43m)\u001b[49m\n\u001b[1;32m     74\u001b[0m     switches\u001b[38;5;241m.\u001b[39mappend(\u001b[38;5;28mself\u001b[39m\u001b[38;5;241m.\u001b[39magents[agent]\u001b[38;5;241m.\u001b[39mkill_switch)\n\u001b[1;32m     76\u001b[0m \u001b[38;5;28mself\u001b[39m\u001b[38;5;241m.\u001b[39mkill_switch \u001b[38;5;241m=\u001b[39m \u001b[38;5;28many\u001b[39m(switches)\n",
      "File \u001b[0;32m~/Desktop/SwarmRL/swarmrl/agents/global_actor_critic.py:171\u001b[0m, in \u001b[0;36mGlobalActorCriticAgent.calc_action\u001b[0;34m(self, colloids)\u001b[0m\n\u001b[1;32m    159\u001b[0m \u001b[38;5;28;01mdef\u001b[39;00m \u001b[38;5;21mcalc_action\u001b[39m(\u001b[38;5;28mself\u001b[39m, colloids: typing\u001b[38;5;241m.\u001b[39mList[Colloid]) \u001b[38;5;241m-\u001b[39m\u001b[38;5;241m>\u001b[39m typing\u001b[38;5;241m.\u001b[39mList[Action]:\n\u001b[1;32m    160\u001b[0m \u001b[38;5;250m    \u001b[39m\u001b[38;5;124;03m\"\"\"\u001b[39;00m\n\u001b[1;32m    161\u001b[0m \u001b[38;5;124;03m    Copmute the new state for the agent.\u001b[39;00m\n\u001b[1;32m    162\u001b[0m \n\u001b[0;32m   (...)\u001b[0m\n\u001b[1;32m    169\u001b[0m \u001b[38;5;124;03m            List of colloids in the system.\u001b[39;00m\n\u001b[1;32m    170\u001b[0m \u001b[38;5;124;03m    \"\"\"\u001b[39;00m\n\u001b[0;32m--> 171\u001b[0m     state_description \u001b[38;5;241m=\u001b[39m \u001b[38;5;28;43mself\u001b[39;49m\u001b[38;5;241;43m.\u001b[39;49m\u001b[43mobservable\u001b[49m\u001b[38;5;241;43m.\u001b[39;49m\u001b[43mcompute_observable\u001b[49m\u001b[43m(\u001b[49m\u001b[43mcolloids\u001b[49m\u001b[43m)\u001b[49m\n\u001b[1;32m    172\u001b[0m     action_indices, log_probs \u001b[38;5;241m=\u001b[39m \u001b[38;5;28mself\u001b[39m\u001b[38;5;241m.\u001b[39mnetwork\u001b[38;5;241m.\u001b[39mcompute_action(\n\u001b[1;32m    173\u001b[0m         observables\u001b[38;5;241m=\u001b[39mstate_description\n\u001b[1;32m    174\u001b[0m     )\n\u001b[1;32m    176\u001b[0m     chosen_action \u001b[38;5;241m=\u001b[39m np\u001b[38;5;241m.\u001b[39mtake(\u001b[38;5;28mlist\u001b[39m(\u001b[38;5;28mself\u001b[39m\u001b[38;5;241m.\u001b[39mactions\u001b[38;5;241m.\u001b[39mvalues()), action_indices, axis\u001b[38;5;241m=\u001b[39m\u001b[38;5;241m-\u001b[39m\u001b[38;5;241m1\u001b[39m)\n",
      "File \u001b[0;32m~/Desktop/SwarmRL/swarmrl/observables/top_down_image.py:122\u001b[0m, in \u001b[0;36mTopDownImage.compute_observable\u001b[0;34m(self, colloids)\u001b[0m\n\u001b[1;32m    112\u001b[0m \u001b[38;5;250m\u001b[39m\u001b[38;5;124;03m\"\"\"\u001b[39;00m\n\u001b[1;32m    113\u001b[0m \u001b[38;5;124;03mComputes the top-down image observable based on the given colloids.\u001b[39;00m\n\u001b[1;32m    114\u001b[0m \n\u001b[0;32m   (...)\u001b[0m\n\u001b[1;32m    119\u001b[0m \u001b[38;5;124;03m    np.ndarray: The computed top-down image as a numpy array.\u001b[39;00m\n\u001b[1;32m    120\u001b[0m \u001b[38;5;124;03m\"\"\"\u001b[39;00m\n\u001b[1;32m    121\u001b[0m \u001b[38;5;28mself\u001b[39m\u001b[38;5;241m.\u001b[39mcreate_bounding_box()\n\u001b[0;32m--> 122\u001b[0m \u001b[38;5;28;43mself\u001b[39;49m\u001b[38;5;241;43m.\u001b[39;49m\u001b[43madd_colloids_to_image\u001b[49m\u001b[43m(\u001b[49m\u001b[43mcolloids\u001b[49m\u001b[43m)\u001b[49m\n\u001b[1;32m    123\u001b[0m \u001b[38;5;28mself\u001b[39m\u001b[38;5;241m.\u001b[39mpositionCameraAboveCenter()\n\u001b[1;32m    124\u001b[0m image \u001b[38;5;241m=\u001b[39m \u001b[38;5;28mself\u001b[39m\u001b[38;5;241m.\u001b[39mrenderer\u001b[38;5;241m.\u001b[39mrender_to_image()\n",
      "File \u001b[0;32m~/Desktop/SwarmRL/swarmrl/observables/top_down_image.py:99\u001b[0m, in \u001b[0;36mTopDownImage.add_colloids_to_image\u001b[0;34m(self, colloids)\u001b[0m\n\u001b[1;32m     97\u001b[0m \u001b[38;5;28;01melse\u001b[39;00m:\n\u001b[1;32m     98\u001b[0m     particle \u001b[38;5;241m=\u001b[39m o3d\u001b[38;5;241m.\u001b[39mgeometry\u001b[38;5;241m.\u001b[39mTriangleMesh\u001b[38;5;241m.\u001b[39mcreate_sphere(radius\u001b[38;5;241m=\u001b[39m\u001b[38;5;241m1000\u001b[39m)  \u001b[38;5;66;03m# Adjust radius if needed\u001b[39;00m\n\u001b[0;32m---> 99\u001b[0m \u001b[43mparticle\u001b[49m\u001b[38;5;241;43m.\u001b[39;49m\u001b[43mtranslate\u001b[49m\u001b[43m(\u001b[49m\u001b[43mcolloid\u001b[49m\u001b[38;5;241;43m.\u001b[39;49m\u001b[43mpos\u001b[49m\u001b[43m)\u001b[49m\n\u001b[1;32m    100\u001b[0m \u001b[38;5;28;01mif\u001b[39;00m \u001b[38;5;28mself\u001b[39m\u001b[38;5;241m.\u001b[39mis_2D:\n\u001b[1;32m    101\u001b[0m     rot_matrix \u001b[38;5;241m=\u001b[39m particle\u001b[38;5;241m.\u001b[39mget_rotation_matrix_from_xyz([\u001b[38;5;241m0\u001b[39m, \u001b[38;5;241m0\u001b[39m, colloid\u001b[38;5;241m.\u001b[39malpha])\n",
      "\u001b[0;31mTypeError\u001b[0m: translate(): incompatible function arguments. The following argument types are supported:\n    1. (self: open3d.cuda.pybind.geometry.Geometry3D, translation: numpy.ndarray[numpy.float64[3, 1]], relative: bool = True) -> open3d.cuda.pybind.geometry.Geometry3D\n\nInvoked with: TriangleMesh with 443612 points and 201368 triangles., array([300., 500.])"
     ]
    }
   ],
   "source": [
    "rl_trainer.perform_rl_training(system_runner, 2, 10)"
   ]
  }
 ],
 "metadata": {
  "kernelspec": {
   "display_name": "Python 3",
   "language": "python",
   "name": "python3"
  },
  "language_info": {
   "codemirror_mode": {
    "name": "ipython",
    "version": 3
   },
   "file_extension": ".py",
   "mimetype": "text/x-python",
   "name": "python",
   "nbconvert_exporter": "python",
   "pygments_lexer": "ipython3",
   "version": "3.10.12"
  }
 },
 "nbformat": 4,
 "nbformat_minor": 2
}
