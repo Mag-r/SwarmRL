{
 "cells": [
  {
   "cell_type": "code",
   "execution_count": 1,
   "metadata": {},
   "outputs": [
    {
     "name": "stderr",
     "output_type": "stream",
     "text": [
      "2024-08-16 13:22:38.051632: W external/xla/xla/service/gpu/nvptx_compiler.cc:836] The NVIDIA driver's CUDA version is 12.4 which is older than the PTX compiler version (12.6.20). Because the driver is older than the PTX compiler version, XLA is disabling parallel compilation, which may slow down compilation. You should update your NVIDIA driver or use the NVIDIA-provided CUDA forward compatibility packages.\n"
     ]
    },
    {
     "name": "stdout",
     "output_type": "stream",
     "text": [
      "Jupyter environment detected. Enabling Open3D WebVisualizer.\n",
      "[Open3D INFO] WebRTC GUI backend enabled.\n",
      "[Open3D INFO] WebRTCWindowSystem: HTTP handshake server disabled.\n"
     ]
    }
   ],
   "source": [
    "import swarmrl as srl\n",
    "\n",
    "from swarmrl.observables.top_down_image import TopDownImage\n",
    "import numpy as np\n",
    "import matplotlib.pyplot as plt\n",
    "from swarmrl.components import Colloid\n",
    "import open3d as o3d\n",
    "import logging\n",
    "import flax.linen as nn\n",
    "from swarmrl.tasks.dummy_task import DummyTask\n",
    "import optax\n",
    "from swarmrl.actions.mpi_action import MPIAction\n",
    "from swarmrl.engine.gaurav_sim import *\n",
    "from swarmrl.trainers.global_continuous_trainer import GlobalContinuousTrainer as Trainer\n",
    "import pint\n"
   ]
  },
  {
   "cell_type": "code",
   "execution_count": 2,
   "metadata": {},
   "outputs": [
    {
     "name": "stdout",
     "output_type": "stream",
     "text": [
      "[Open3D INFO] EGL headless mode enabled.\n",
      "WARNING: Using soft CircularBuffer (6144 KiB)\n",
      "FEngine (64 bits) created at 0x5eb9a68de460 (threading is enabled)\n",
      "EGL(1.5)\n",
      "OpenGL(4.1)\n"
     ]
    }
   ],
   "source": [
    "logging.basicConfig(level=logging.WARNING)\n",
    "\n",
    "resolution=128\n",
    "\n",
    "rafts = o3d.io.read_triangle_mesh(\"rafts.stl\")\n",
    "\n",
    "obs = TopDownImage(\n",
    "    np.array([10000.0, 10000.0, 0.1]), image_resolution=np.array([resolution]*2), particle_type=0, custom_mesh=rafts, is_2D=True\n",
    ")\n",
    "task = DummyTask()\n",
    "\n",
    "\n",
    "class ActoCriticNet(nn.Module):\n",
    "    \"\"\"A simple dense model.\"\"\"\n",
    "\n",
    "    @nn.compact\n",
    "    def __call__(self, x):\n",
    "        x = x.flatten()\n",
    "        y = nn.Dense(features=2)(x)\n",
    "        x = nn.Dense(features=2)(x)\n",
    "        x = nn.relu(x)\n",
    "        y = nn.relu(y)\n",
    "\n",
    "        y = nn.Dense(features=12)(y)\n",
    "        x = nn.Dense(features=12)(x)\n",
    "        x = nn.relu(x)\n",
    "        y = nn.relu(y)\n",
    "        y = nn.Dense(features=1)(x)  # Critic\n",
    "        x = nn.Dense(features=4)(x)  # Actor\n",
    "        return x, y\n",
    "\n",
    "\n",
    "exploration_policy = srl.exploration_policies.RandomExploration(probability=0.1)\n",
    "\n",
    "# Define a sampling_strategy\n",
    "sampling_strategy = srl.sampling_strategies.GumbelDistribution()\n",
    "\n",
    "# Value function to use\n",
    "value_function = srl.value_functions.ExpectedReturns(gamma=0.1, standardize=True)\n",
    "\n",
    "# Define the model\n",
    "actor_critic = ActoCriticNet()\n",
    "\n"
   ]
  },
  {
   "cell_type": "code",
   "execution_count": 3,
   "metadata": {},
   "outputs": [],
   "source": [
    "ureg = pint.UnitRegistry()\n",
    "\n",
    "# Define parameters in SI units\n",
    "params = GauravSimParams(\n",
    "    ureg=ureg,\n",
    "    box_length=10000.0 * ureg.micrometer, \n",
    "    time_step=0.001 * ureg.second,\n",
    "    time_slice=0.01 * ureg.second,\n",
    "    snapshot_interval=0.005 * ureg.second,\n",
    "    raft_radius=150 * ureg.micrometer,  \n",
    "    raft_repulsion_strength=1 * ureg.newton,\n",
    "    dynamic_viscosity=1 * ureg.pascal * ureg.second,  \n",
    "    fluid_density=1 * ureg.kilogram / ureg.meter**3,  \n",
    "    lubrication_threshold=1 * ureg.micrometer,  \n",
    "    magnetic_constant=1 * ureg.newton / (ureg.ampere**2),  # magnetic permeability in N/A^2\n",
    "    capillary_force_data_path=\"capillaryForceAndTorque_sym6.dat\"\n",
    ")\n",
    "\n",
    "# Initialize the simulation system\n",
    "system_runner = GauravSim(params=params, out_folder=\"./\", with_precalc_capillary=False,save_h5=False)\n",
    "for i in range(10):\n",
    "    system_runner.add_colloids(pos = [np.random.rand()*10000,np.random.rand()*10000, 0]* ureg.micrometer, alpha = np.random.rand()*2*np.pi, magnetic_moment = 1* ureg.ampere * ureg.meter**2)\n"
   ]
  },
  {
   "cell_type": "code",
   "execution_count": 4,
   "metadata": {},
   "outputs": [
    {
     "name": "stdout",
     "output_type": "stream",
     "text": [
      "\n",
      "\u001b[3m                             ActoCriticNet Summary                              \u001b[0m\n",
      "┏━━━━━━━━━┳━━━━━━━━━━━━━━━┳━━━━━━━━━━━━━━━━━━┳━━━━━━━━━━━━━━┳━━━━━━━━━━━━━━━━━━┓\n",
      "┃\u001b[1m \u001b[0m\u001b[1mpath   \u001b[0m\u001b[1m \u001b[0m┃\u001b[1m \u001b[0m\u001b[1mmodule       \u001b[0m\u001b[1m \u001b[0m┃\u001b[1m \u001b[0m\u001b[1minputs          \u001b[0m\u001b[1m \u001b[0m┃\u001b[1m \u001b[0m\u001b[1moutputs     \u001b[0m\u001b[1m \u001b[0m┃\u001b[1m \u001b[0m\u001b[1mparams          \u001b[0m\u001b[1m \u001b[0m┃\n",
      "┡━━━━━━━━━╇━━━━━━━━━━━━━━━╇━━━━━━━━━━━━━━━━━━╇━━━━━━━━━━━━━━╇━━━━━━━━━━━━━━━━━━┩\n",
      "│         │ ActoCriticNet │ \u001b[2mfloat32\u001b[0m[128,128] │ - \u001b[2mfloat32\u001b[0m[4] │                  │\n",
      "│         │               │                  │ - \u001b[2mfloat32\u001b[0m[1] │                  │\n",
      "├─────────┼───────────────┼──────────────────┼──────────────┼──────────────────┤\n",
      "│ Dense_0 │ Dense         │ \u001b[2mfloat32\u001b[0m[16384]   │ \u001b[2mfloat32\u001b[0m[2]   │ bias: \u001b[2mfloat32\u001b[0m[2] │\n",
      "│         │               │                  │              │ kernel:          │\n",
      "│         │               │                  │              │ \u001b[2mfloat32\u001b[0m[16384,2] │\n",
      "│         │               │                  │              │                  │\n",
      "│         │               │                  │              │ \u001b[1m32,770 \u001b[0m\u001b[1;2m(131.1 \u001b[0m   │\n",
      "│         │               │                  │              │ \u001b[1;2mKB)\u001b[0m              │\n",
      "├─────────┼───────────────┼──────────────────┼──────────────┼──────────────────┤\n",
      "│ Dense_1 │ Dense         │ \u001b[2mfloat32\u001b[0m[16384]   │ \u001b[2mfloat32\u001b[0m[2]   │ bias: \u001b[2mfloat32\u001b[0m[2] │\n",
      "│         │               │                  │              │ kernel:          │\n",
      "│         │               │                  │              │ \u001b[2mfloat32\u001b[0m[16384,2] │\n",
      "│         │               │                  │              │                  │\n",
      "│         │               │                  │              │ \u001b[1m32,770 \u001b[0m\u001b[1;2m(131.1 \u001b[0m   │\n",
      "│         │               │                  │              │ \u001b[1;2mKB)\u001b[0m              │\n",
      "├─────────┼───────────────┼──────────────────┼──────────────┼──────────────────┤\n",
      "│ Dense_2 │ Dense         │ \u001b[2mfloat32\u001b[0m[2]       │ \u001b[2mfloat32\u001b[0m[12]  │ bias:            │\n",
      "│         │               │                  │              │ \u001b[2mfloat32\u001b[0m[12]      │\n",
      "│         │               │                  │              │ kernel:          │\n",
      "│         │               │                  │              │ \u001b[2mfloat32\u001b[0m[2,12]    │\n",
      "│         │               │                  │              │                  │\n",
      "│         │               │                  │              │ \u001b[1m36 \u001b[0m\u001b[1;2m(144 B)\u001b[0m       │\n",
      "├─────────┼───────────────┼──────────────────┼──────────────┼──────────────────┤\n",
      "│ Dense_3 │ Dense         │ \u001b[2mfloat32\u001b[0m[2]       │ \u001b[2mfloat32\u001b[0m[12]  │ bias:            │\n",
      "│         │               │                  │              │ \u001b[2mfloat32\u001b[0m[12]      │\n",
      "│         │               │                  │              │ kernel:          │\n",
      "│         │               │                  │              │ \u001b[2mfloat32\u001b[0m[2,12]    │\n",
      "│         │               │                  │              │                  │\n",
      "│         │               │                  │              │ \u001b[1m36 \u001b[0m\u001b[1;2m(144 B)\u001b[0m       │\n",
      "├─────────┼───────────────┼──────────────────┼──────────────┼──────────────────┤\n",
      "│ Dense_4 │ Dense         │ \u001b[2mfloat32\u001b[0m[12]      │ \u001b[2mfloat32\u001b[0m[1]   │ bias: \u001b[2mfloat32\u001b[0m[1] │\n",
      "│         │               │                  │              │ kernel:          │\n",
      "│         │               │                  │              │ \u001b[2mfloat32\u001b[0m[12,1]    │\n",
      "│         │               │                  │              │                  │\n",
      "│         │               │                  │              │ \u001b[1m13 \u001b[0m\u001b[1;2m(52 B)\u001b[0m        │\n",
      "├─────────┼───────────────┼──────────────────┼──────────────┼──────────────────┤\n",
      "│ Dense_5 │ Dense         │ \u001b[2mfloat32\u001b[0m[12]      │ \u001b[2mfloat32\u001b[0m[4]   │ bias: \u001b[2mfloat32\u001b[0m[4] │\n",
      "│         │               │                  │              │ kernel:          │\n",
      "│         │               │                  │              │ \u001b[2mfloat32\u001b[0m[12,4]    │\n",
      "│         │               │                  │              │                  │\n",
      "│         │               │                  │              │ \u001b[1m52 \u001b[0m\u001b[1;2m(208 B)\u001b[0m       │\n",
      "├─────────┼───────────────┼──────────────────┼──────────────┼──────────────────┤\n",
      "│\u001b[1m \u001b[0m\u001b[1m       \u001b[0m\u001b[1m \u001b[0m│\u001b[1m \u001b[0m\u001b[1m             \u001b[0m\u001b[1m \u001b[0m│\u001b[1m \u001b[0m\u001b[1m                \u001b[0m\u001b[1m \u001b[0m│\u001b[1m \u001b[0m\u001b[1m       Total\u001b[0m\u001b[1m \u001b[0m│\u001b[1m \u001b[0m\u001b[1m65,677 \u001b[0m\u001b[1;2m(262.7 \u001b[0m\u001b[1m  \u001b[0m\u001b[1m \u001b[0m│\n",
      "│\u001b[1m         \u001b[0m│\u001b[1m               \u001b[0m│\u001b[1m                  \u001b[0m│\u001b[1m              \u001b[0m│\u001b[1m \u001b[0m\u001b[1;2mKB)\u001b[0m\u001b[1m             \u001b[0m\u001b[1m \u001b[0m│\n",
      "└─────────┴───────────────┴──────────────────┴──────────────┴──────────────────┘\n",
      "\u001b[1m                                                                                \u001b[0m\n",
      "\u001b[1m                      Total Parameters: 65,677 \u001b[0m\u001b[1;2m(262.7 KB)\u001b[0m\u001b[1m                       \u001b[0m\n",
      "\n",
      "\n"
     ]
    }
   ],
   "source": [
    "\n",
    "network = srl.networks.ContinuousFlaxModel(\n",
    "    flax_model=actor_critic,\n",
    "    optimizer=optax.adam(learning_rate=0.01),\n",
    "    input_shape=(resolution,resolution),\n",
    "    sampling_strategy=sampling_strategy,\n",
    "    exploration_policy=exploration_policy,\n",
    ")\n",
    "loss = srl.losses.PolicyGradientLoss(value_function=value_function)\n",
    "\n",
    "\n",
    "actions = {\n",
    "    0: MPIAction(\n",
    "        amplitudes=np.array([0, 1]),\n",
    "        phases=np.array([0, 0]),\n",
    "        frequencies=np.array([0, 0]),\n",
    "        offsets=np.array([0, 0]),\n",
    "    ),\n",
    "    1: MPIAction(\n",
    "        amplitudes=np.array([1, 0]) ,\n",
    "        phases=np.array([0, 0]) ,\n",
    "        frequencies=np.array([0, 0]) ,\n",
    "        offsets=np.array([0, 0]) ,\n",
    "    ),\n",
    "    2: MPIAction(\n",
    "        amplitudes=np.array([0, 0]) ,\n",
    "        phases=np.array([0, 0]) ,\n",
    "        frequencies=np.array([0, 0]) ,\n",
    "        offsets=np.array([0, 0]) ,\n",
    "    ),\n",
    "    3: MPIAction(\n",
    "        amplitudes=np.array([1, 1]) ,\n",
    "        phases=np.array([0, 0]) ,\n",
    "        frequencies=np.array([1, 1]) ,\n",
    "        offsets=np.array([0, 0]) ,\n",
    "    ),\n",
    "}\n",
    "protocol = srl.agents.GlobalActorCriticAgent(\n",
    "    particle_type=0,\n",
    "    network=network,\n",
    "    task=task,\n",
    "    observable=obs,\n",
    "    actions=actions,\n",
    "    loss=loss,\n",
    ")\n",
    "\n",
    "# Define the force model.\n",
    "rl_trainer = Trainer([protocol])"
   ]
  },
  {
   "cell_type": "code",
   "execution_count": 5,
   "metadata": {},
   "outputs": [
    {
     "data": {
      "application/vnd.jupyter.widget-view+json": {
       "model_id": "3cf7e1720bf24b7ca4192c02a950a3dc",
       "version_major": 2,
       "version_minor": 0
      },
      "text/plain": [
       "Output()"
      ]
     },
     "metadata": {},
     "output_type": "display_data"
    },
    {
     "data": {
      "text/html": [
       "<pre style=\"white-space:pre;overflow-x:auto;line-height:normal;font-family:Menlo,'DejaVu Sans Mono',consolas,'Courier New',monospace\">/tikhome/mgern/.local/lib/python3.10/site-packages/scipy/integrate/_ivp/ivp.py:621: UserWarning: The following \n",
       "arguments have no effect for a chosen solver: `min_step`.\n",
       "  solver = method(fun, t0, y0, tf, vectorized=vectorized, **options)\n",
       "</pre>\n"
      ],
      "text/plain": [
       "/tikhome/mgern/.local/lib/python3.10/site-packages/scipy/integrate/_ivp/ivp.py:621: UserWarning: The following \n",
       "arguments have no effect for a chosen solver: `min_step`.\n",
       "  solver = method(fun, t0, y0, tf, vectorized=vectorized, **options)\n"
      ]
     },
     "metadata": {},
     "output_type": "display_data"
    },
    {
     "data": {
      "text/html": [
       "<pre style=\"white-space:pre;overflow-x:auto;line-height:normal;font-family:Menlo,'DejaVu Sans Mono',consolas,'Courier New',monospace\"></pre>\n"
      ],
      "text/plain": []
     },
     "metadata": {},
     "output_type": "display_data"
    },
    {
     "data": {
      "text/html": [
       "<pre style=\"white-space:pre;overflow-x:auto;line-height:normal;font-family:Menlo,'DejaVu Sans Mono',consolas,'Courier New',monospace\">\n",
       "</pre>\n"
      ],
      "text/plain": [
       "\n"
      ]
     },
     "metadata": {},
     "output_type": "display_data"
    },
    {
     "ename": "RuntimeError",
     "evalue": "Integration crashed at time 0.0. Reason: Required step size is less than spacing between numbers.",
     "output_type": "error",
     "traceback": [
      "\u001b[0;31m---------------------------------------------------------------------------\u001b[0m",
      "\u001b[0;31mRuntimeError\u001b[0m                              Traceback (most recent call last)",
      "Cell \u001b[0;32mIn[5], line 1\u001b[0m\n\u001b[0;32m----> 1\u001b[0m \u001b[43mrl_trainer\u001b[49m\u001b[38;5;241;43m.\u001b[39;49m\u001b[43mperform_rl_training\u001b[49m\u001b[43m(\u001b[49m\u001b[43msystem_runner\u001b[49m\u001b[43m,\u001b[49m\u001b[43m \u001b[49m\u001b[38;5;241;43m10\u001b[39;49m\u001b[43m,\u001b[49m\u001b[43m \u001b[49m\u001b[38;5;241;43m10\u001b[39;49m\u001b[43m)\u001b[49m\n",
      "File \u001b[0;32m~/Desktop/SwarmRL/swarmrl/trainers/global_continuous_trainer.py:77\u001b[0m, in \u001b[0;36mGlobalContinuousTrainer.perform_rl_training\u001b[0;34m(self, system_runner, n_episodes, episode_length, load_bar)\u001b[0m\n\u001b[1;32m     68\u001b[0m task \u001b[38;5;241m=\u001b[39m progress\u001b[38;5;241m.\u001b[39madd_task(\n\u001b[1;32m     69\u001b[0m     \u001b[38;5;124m\"\u001b[39m\u001b[38;5;124mRL Training\u001b[39m\u001b[38;5;124m\"\u001b[39m,\n\u001b[1;32m     70\u001b[0m     total\u001b[38;5;241m=\u001b[39mn_episodes,\n\u001b[0;32m   (...)\u001b[0m\n\u001b[1;32m     74\u001b[0m     visible\u001b[38;5;241m=\u001b[39mload_bar,\n\u001b[1;32m     75\u001b[0m )\n\u001b[1;32m     76\u001b[0m \u001b[38;5;28;01mfor\u001b[39;00m _ \u001b[38;5;129;01min\u001b[39;00m \u001b[38;5;28mrange\u001b[39m(n_episodes):\n\u001b[0;32m---> 77\u001b[0m     \u001b[38;5;28;43mself\u001b[39;49m\u001b[38;5;241;43m.\u001b[39;49m\u001b[43mengine\u001b[49m\u001b[38;5;241;43m.\u001b[39;49m\u001b[43mintegrate\u001b[49m\u001b[43m(\u001b[49m\u001b[43mepisode_length\u001b[49m\u001b[43m,\u001b[49m\u001b[43m \u001b[49m\u001b[43mforce_fn\u001b[49m\u001b[43m)\u001b[49m\n\u001b[1;32m     78\u001b[0m     force_fn, current_reward, killed \u001b[38;5;241m=\u001b[39m \u001b[38;5;28mself\u001b[39m\u001b[38;5;241m.\u001b[39mupdate_rl()\n\u001b[1;32m     80\u001b[0m     \u001b[38;5;28;01mif\u001b[39;00m killed:\n",
      "File \u001b[0;32m~/Desktop/SwarmRL/swarmrl/engine/gaurav_sim.py:691\u001b[0m, in \u001b[0;36mGauravSim.integrate\u001b[0;34m(self, n_slices, model)\u001b[0m\n\u001b[1;32m    676\u001b[0m sol \u001b[38;5;241m=\u001b[39m scipy\u001b[38;5;241m.\u001b[39mintegrate\u001b[38;5;241m.\u001b[39msolve_ivp(\n\u001b[1;32m    677\u001b[0m     rhs,\n\u001b[1;32m    678\u001b[0m     (\u001b[38;5;28mself\u001b[39m\u001b[38;5;241m.\u001b[39mtime, \u001b[38;5;28mself\u001b[39m\u001b[38;5;241m.\u001b[39mtime \u001b[38;5;241m+\u001b[39m \u001b[38;5;28mself\u001b[39m\u001b[38;5;241m.\u001b[39mparams\u001b[38;5;241m.\u001b[39mtime_slice),\n\u001b[0;32m   (...)\u001b[0m\n\u001b[1;32m    688\u001b[0m     ),\n\u001b[1;32m    689\u001b[0m )\n\u001b[1;32m    690\u001b[0m \u001b[38;5;28;01mif\u001b[39;00m \u001b[38;5;129;01mnot\u001b[39;00m sol\u001b[38;5;241m.\u001b[39msuccess:\n\u001b[0;32m--> 691\u001b[0m     \u001b[38;5;28;01mraise\u001b[39;00m \u001b[38;5;167;01mRuntimeError\u001b[39;00m(\n\u001b[1;32m    692\u001b[0m         \u001b[38;5;124mf\u001b[39m\u001b[38;5;124m\"\u001b[39m\u001b[38;5;124mIntegration crashed at time \u001b[39m\u001b[38;5;132;01m{\u001b[39;00m\u001b[38;5;28mself\u001b[39m\u001b[38;5;241m.\u001b[39mtime\u001b[38;5;132;01m}\u001b[39;00m\u001b[38;5;124m. Reason: \u001b[39m\u001b[38;5;132;01m{\u001b[39;00msol\u001b[38;5;241m.\u001b[39mmessage\u001b[38;5;132;01m}\u001b[39;00m\u001b[38;5;124m\"\u001b[39m\n\u001b[1;32m    693\u001b[0m     )\n\u001b[1;32m    694\u001b[0m \u001b[38;5;28;01mif\u001b[39;00m \u001b[38;5;28mself\u001b[39m\u001b[38;5;241m.\u001b[39msave_h5:\n\u001b[1;32m    695\u001b[0m     \u001b[38;5;28mself\u001b[39m\u001b[38;5;241m.\u001b[39mwrite_to_h5(sol\u001b[38;5;241m.\u001b[39my, sol\u001b[38;5;241m.\u001b[39mt)\n",
      "\u001b[0;31mRuntimeError\u001b[0m: Integration crashed at time 0.0. Reason: Required step size is less than spacing between numbers."
     ]
    }
   ],
   "source": [
    "rl_trainer.perform_rl_training(system_runner, 10, 10)"
   ]
  }
 ],
 "metadata": {
  "kernelspec": {
   "display_name": "Python 3",
   "language": "python",
   "name": "python3"
  },
  "language_info": {
   "codemirror_mode": {
    "name": "ipython",
    "version": 3
   },
   "file_extension": ".py",
   "mimetype": "text/x-python",
   "name": "python",
   "nbconvert_exporter": "python",
   "pygments_lexer": "ipython3",
   "version": "3.10.12"
  }
 },
 "nbformat": 4,
 "nbformat_minor": 2
}
