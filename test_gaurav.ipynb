{
 "cells": [
  {
   "cell_type": "code",
   "execution_count": 1,
   "metadata": {},
   "outputs": [
    {
     "name": "stderr",
     "output_type": "stream",
     "text": [
      "2024-09-13 12:09:03.714594: W external/xla/xla/service/gpu/nvptx_compiler.cc:836] The NVIDIA driver's CUDA version is 12.4 which is older than the PTX compiler version (12.6.20). Because the driver is older than the PTX compiler version, XLA is disabling parallel compilation, which may slow down compilation. You should update your NVIDIA driver or use the NVIDIA-provided CUDA forward compatibility packages.\n"
     ]
    },
    {
     "name": "stdout",
     "output_type": "stream",
     "text": [
      "Jupyter environment detected. Enabling Open3D WebVisualizer.\n",
      "[Open3D INFO] WebRTC GUI backend enabled.\n",
      "[Open3D INFO] WebRTCWindowSystem: HTTP handshake server disabled.\n"
     ]
    }
   ],
   "source": [
    "import swarmrl as srl\n",
    "\n",
    "from swarmrl.observables.top_down_image import TopDownImage\n",
    "from jax import numpy as np\n",
    "import matplotlib.pyplot as plt\n",
    "from swarmrl.components import Colloid\n",
    "import open3d as o3d\n",
    "import logging\n",
    "import flax.linen as nn\n",
    "from swarmrl.tasks.dummy_task import DummyTask\n",
    "import optax\n",
    "from swarmrl.actions.mpi_action import MPIAction\n",
    "from swarmrl.engine.gaurav_sim import *\n",
    "from swarmrl.trainers.global_continuous_trainer import GlobalContinuousTrainer as Trainer\n",
    "import pint\n"
   ]
  },
  {
   "cell_type": "code",
   "execution_count": 2,
   "metadata": {},
   "outputs": [
    {
     "name": "stdout",
     "output_type": "stream",
     "text": [
      "[Open3D INFO] EGL headless mode enabled.\n",
      "FEngine (64 bits) created at 0x830b7800010 (threading is enabled)\n",
      "EGL(1.5)\n",
      "OpenGL(4.1)\n"
     ]
    }
   ],
   "source": [
    "logging.basicConfig(level=logging.WARNING)\n",
    "\n",
    "\n",
    "resolution=1280\n",
    "number_of_gaussians=2\n",
    "action_dimension=8\n",
    "rafts = o3d.io.read_triangle_mesh(\"coloured_rafts.ply\")\n",
    "\n",
    "obs = TopDownImage(\n",
    "    np.array([10000.0, 10000.0, 0.1]), image_resolution=np.array([resolution]*2), particle_type=0, custom_mesh=rafts, is_2D=True, save_images=False\n",
    ")\n",
    "task = DummyTask()\n",
    "\n",
    "\n",
    "class ActoCriticNet(nn.Module):\n",
    "    \"\"\"A simple dense model.\"\"\"\n",
    "\n",
    "    @nn.compact\n",
    "    def __call__(self, x):\n",
    "        x = nn.Conv(features=32, kernel_size=(3, 3), strides=(3, 3))(x)\n",
    "        x = nn.relu(x)\n",
    "        x = nn.Conv(features=64, kernel_size=(3, 3), strides=(3, 3))(x)\n",
    "        x = nn.relu(x)\n",
    "        x = nn.max_pool(x, window_shape=(10, 10), strides=(10, 10))\n",
    "        x = x.flatten()\n",
    "        y = nn.Dense(features=2)(x)\n",
    "        x = nn.Dense(features=2)(x)\n",
    "        x = nn.relu(x)\n",
    "        y = nn.relu(y)\n",
    "\n",
    "        y = nn.Dense(features=12)(y)\n",
    "        x = nn.Dense(features=12)(x)\n",
    "        x = nn.relu(x)\n",
    "        y = nn.relu(y)\n",
    "        y = nn.Dense(features=1)(x)  # Critic\n",
    "        x = nn.Dense(features=number_of_gaussians*action_dimension*2)(x)  # Actor\n",
    "        #pass output designed for variance through relu function (last number_of_gaussians*action_dimension)\n",
    "        # x = x.at[number_of_gaussians * action_dimension:].set(nn.relu(x.at[number_of_gaussians * action_dimension:].get()))\n",
    "        x = nn.relu(x)\n",
    "        return x, y\n",
    "\n",
    "\n",
    "exploration_policy = srl.exploration_policies.RandomExploration(probability=0.0) # check this\n",
    "\n",
    "# Define a sampling_strategy\n",
    "sampling_strategy = srl.sampling_strategies.ContinuousGaussianDistribution()\n",
    "\n",
    "# Value function to use\n",
    "value_function = srl.value_functions.GlobalExpectedReturns(gamma=0.1, standardize=True)\n",
    "\n",
    "# Define the model\n",
    "actor_critic = ActoCriticNet()\n",
    "\n"
   ]
  },
  {
   "cell_type": "code",
   "execution_count": 3,
   "metadata": {},
   "outputs": [],
   "source": [
    "ureg = pint.UnitRegistry()\n",
    "Q_ = ureg.Quantity\n",
    "\n",
    "# Define parameters in SI units\n",
    "params = GauravSimParams(\n",
    "            ureg=ureg,\n",
    "            box_length=Q_(10000, \"micrometer\"),\n",
    "            time_step=Q_(1e-3, \"second\"),\n",
    "            time_slice=Q_(1, \"second\"),\n",
    "            snapshot_interval=Q_(0.002, \"second\"),\n",
    "            raft_radius=Q_(150, \"micrometer\"),\n",
    "            raft_repulsion_strength=Q_(1e-7, \"newton\"),\n",
    "            dynamic_viscosity=Q_(1e-3, \"Pa * s\"),\n",
    "            fluid_density=Q_(1000, \"kg / m**3\"),\n",
    "            lubrication_threshold=Q_(15, \"micrometer\"),\n",
    "            magnetic_constant=Q_(4 * np.pi * 1e-7, \"newton /ampere**2\"),\n",
    "            capillary_force_data_path=pathlib.Path(\n",
    "                \"/work/clohrmann/mpi_collab/capillaryForceAndTorque_sym6\"\n",
    "            ),  # TODO\n",
    "        )\n",
    "\n",
    "# Initialize the simulation system\n",
    "system_runner = GauravSim(params=params, out_folder=\"./\", with_precalc_capillary=True,save_h5=True)\n",
    "mag_mom = Q_(1e-8, \"ampere * meter**2\")\n",
    "for i in range(20):\n",
    "    system_runner.add_colloids(pos = [np.random.rand()*10000,np.random.rand()*10000, 0]* ureg.micrometer, alpha = np.random.rand()*2*np.pi, magnetic_moment = 1E-8* ureg.ampere * ureg.meter**2)\n",
    "\n"
   ]
  },
  {
   "cell_type": "code",
   "execution_count": 4,
   "metadata": {},
   "outputs": [
    {
     "name": "stdout",
     "output_type": "stream",
     "text": [
      "\n",
      "\u001b[3m                             ActoCriticNet Summary                              \u001b[0m\n",
      "┏━━━━━━━━━┳━━━━━━━━━━━━━━━┳━━━━━━━━━━━━━━━━━┳━━━━━━━━━━━━━━━━━┳━━━━━━━━━━━━━━━━┓\n",
      "┃\u001b[1m \u001b[0m\u001b[1mpath   \u001b[0m\u001b[1m \u001b[0m┃\u001b[1m \u001b[0m\u001b[1mmodule       \u001b[0m\u001b[1m \u001b[0m┃\u001b[1m \u001b[0m\u001b[1minputs         \u001b[0m\u001b[1m \u001b[0m┃\u001b[1m \u001b[0m\u001b[1moutputs        \u001b[0m\u001b[1m \u001b[0m┃\u001b[1m \u001b[0m\u001b[1mparams        \u001b[0m\u001b[1m \u001b[0m┃\n",
      "┡━━━━━━━━━╇━━━━━━━━━━━━━━━╇━━━━━━━━━━━━━━━━━╇━━━━━━━━━━━━━━━━━╇━━━━━━━━━━━━━━━━┩\n",
      "│         │ ActoCriticNet │ \u001b[2mfloat32\u001b[0m[1,1280… │ - \u001b[2mfloat32\u001b[0m[32]   │                │\n",
      "│         │               │                 │ - \u001b[2mfloat32\u001b[0m[1]    │                │\n",
      "├─────────┼───────────────┼─────────────────┼─────────────────┼────────────────┤\n",
      "│ Conv_0  │ Conv          │ \u001b[2mfloat32\u001b[0m[1,1280… │ \u001b[2mfloat32\u001b[0m[1,427,… │ bias:          │\n",
      "│         │               │                 │                 │ \u001b[2mfloat32\u001b[0m[32]    │\n",
      "│         │               │                 │                 │ kernel:        │\n",
      "│         │               │                 │                 │ \u001b[2mfloat32\u001b[0m[3,3,1… │\n",
      "│         │               │                 │                 │                │\n",
      "│         │               │                 │                 │ \u001b[1m320 \u001b[0m\u001b[1;2m(1.3 KB)\u001b[0m   │\n",
      "├─────────┼───────────────┼─────────────────┼─────────────────┼────────────────┤\n",
      "│ Conv_1  │ Conv          │ \u001b[2mfloat32\u001b[0m[1,427,… │ \u001b[2mfloat32\u001b[0m[1,143,… │ bias:          │\n",
      "│         │               │                 │                 │ \u001b[2mfloat32\u001b[0m[64]    │\n",
      "│         │               │                 │                 │ kernel:        │\n",
      "│         │               │                 │                 │ \u001b[2mfloat32\u001b[0m[3,3,3… │\n",
      "│         │               │                 │                 │                │\n",
      "│         │               │                 │                 │ \u001b[1m18,496 \u001b[0m\u001b[1;2m(74.0 \u001b[0m  │\n",
      "│         │               │                 │                 │ \u001b[1;2mKB)\u001b[0m            │\n",
      "├─────────┼───────────────┼─────────────────┼─────────────────┼────────────────┤\n",
      "│ Dense_0 │ Dense         │ \u001b[2mfloat32\u001b[0m[12544]  │ \u001b[2mfloat32\u001b[0m[2]      │ bias:          │\n",
      "│         │               │                 │                 │ \u001b[2mfloat32\u001b[0m[2]     │\n",
      "│         │               │                 │                 │ kernel:        │\n",
      "│         │               │                 │                 │ \u001b[2mfloat32\u001b[0m[12544… │\n",
      "│         │               │                 │                 │                │\n",
      "│         │               │                 │                 │ \u001b[1m25,090 \u001b[0m\u001b[1;2m(100.4 \u001b[0m │\n",
      "│         │               │                 │                 │ \u001b[1;2mKB)\u001b[0m            │\n",
      "├─────────┼───────────────┼─────────────────┼─────────────────┼────────────────┤\n",
      "│ Dense_1 │ Dense         │ \u001b[2mfloat32\u001b[0m[12544]  │ \u001b[2mfloat32\u001b[0m[2]      │ bias:          │\n",
      "│         │               │                 │                 │ \u001b[2mfloat32\u001b[0m[2]     │\n",
      "│         │               │                 │                 │ kernel:        │\n",
      "│         │               │                 │                 │ \u001b[2mfloat32\u001b[0m[12544… │\n",
      "│         │               │                 │                 │                │\n",
      "│         │               │                 │                 │ \u001b[1m25,090 \u001b[0m\u001b[1;2m(100.4 \u001b[0m │\n",
      "│         │               │                 │                 │ \u001b[1;2mKB)\u001b[0m            │\n",
      "├─────────┼───────────────┼─────────────────┼─────────────────┼────────────────┤\n",
      "│ Dense_2 │ Dense         │ \u001b[2mfloat32\u001b[0m[2]      │ \u001b[2mfloat32\u001b[0m[12]     │ bias:          │\n",
      "│         │               │                 │                 │ \u001b[2mfloat32\u001b[0m[12]    │\n",
      "│         │               │                 │                 │ kernel:        │\n",
      "│         │               │                 │                 │ \u001b[2mfloat32\u001b[0m[2,12]  │\n",
      "│         │               │                 │                 │                │\n",
      "│         │               │                 │                 │ \u001b[1m36 \u001b[0m\u001b[1;2m(144 B)\u001b[0m     │\n",
      "├─────────┼───────────────┼─────────────────┼─────────────────┼────────────────┤\n",
      "│ Dense_3 │ Dense         │ \u001b[2mfloat32\u001b[0m[2]      │ \u001b[2mfloat32\u001b[0m[12]     │ bias:          │\n",
      "│         │               │                 │                 │ \u001b[2mfloat32\u001b[0m[12]    │\n",
      "│         │               │                 │                 │ kernel:        │\n",
      "│         │               │                 │                 │ \u001b[2mfloat32\u001b[0m[2,12]  │\n",
      "│         │               │                 │                 │                │\n",
      "│         │               │                 │                 │ \u001b[1m36 \u001b[0m\u001b[1;2m(144 B)\u001b[0m     │\n",
      "├─────────┼───────────────┼─────────────────┼─────────────────┼────────────────┤\n",
      "│ Dense_4 │ Dense         │ \u001b[2mfloat32\u001b[0m[12]     │ \u001b[2mfloat32\u001b[0m[1]      │ bias:          │\n",
      "│         │               │                 │                 │ \u001b[2mfloat32\u001b[0m[1]     │\n",
      "│         │               │                 │                 │ kernel:        │\n",
      "│         │               │                 │                 │ \u001b[2mfloat32\u001b[0m[12,1]  │\n",
      "│         │               │                 │                 │                │\n",
      "│         │               │                 │                 │ \u001b[1m13 \u001b[0m\u001b[1;2m(52 B)\u001b[0m      │\n",
      "├─────────┼───────────────┼─────────────────┼─────────────────┼────────────────┤\n",
      "│ Dense_5 │ Dense         │ \u001b[2mfloat32\u001b[0m[12]     │ \u001b[2mfloat32\u001b[0m[32]     │ bias:          │\n",
      "│         │               │                 │                 │ \u001b[2mfloat32\u001b[0m[32]    │\n",
      "│         │               │                 │                 │ kernel:        │\n",
      "│         │               │                 │                 │ \u001b[2mfloat32\u001b[0m[12,32] │\n",
      "│         │               │                 │                 │                │\n",
      "│         │               │                 │                 │ \u001b[1m416 \u001b[0m\u001b[1;2m(1.7 KB)\u001b[0m   │\n",
      "├─────────┼───────────────┼─────────────────┼─────────────────┼────────────────┤\n",
      "│\u001b[1m \u001b[0m\u001b[1m       \u001b[0m\u001b[1m \u001b[0m│\u001b[1m \u001b[0m\u001b[1m             \u001b[0m\u001b[1m \u001b[0m│\u001b[1m \u001b[0m\u001b[1m               \u001b[0m\u001b[1m \u001b[0m│\u001b[1m \u001b[0m\u001b[1m          Total\u001b[0m\u001b[1m \u001b[0m│\u001b[1m \u001b[0m\u001b[1m69,497 \u001b[0m\u001b[1;2m(278.0 \u001b[0m\u001b[1m \u001b[0m│\n",
      "│\u001b[1m         \u001b[0m│\u001b[1m               \u001b[0m│\u001b[1m                 \u001b[0m│\u001b[1m                 \u001b[0m│\u001b[1m \u001b[0m\u001b[1;2mKB)\u001b[0m\u001b[1m           \u001b[0m\u001b[1m \u001b[0m│\n",
      "└─────────┴───────────────┴─────────────────┴─────────────────┴────────────────┘\n",
      "\u001b[1m                                                                                \u001b[0m\n",
      "\u001b[1m                      Total Parameters: 69,497 \u001b[0m\u001b[1;2m(278.0 KB)\u001b[0m\u001b[1m                       \u001b[0m\n",
      "\n",
      "\n"
     ]
    }
   ],
   "source": [
    "\n",
    "network = srl.networks.ContinuousFlaxModel(\n",
    "    flax_model=actor_critic,\n",
    "    optimizer=optax.adam(learning_rate=0.01),\n",
    "    input_shape=(1,resolution,resolution,1), #1 are required for CNN\n",
    "    sampling_strategy=sampling_strategy,\n",
    "    exploration_policy=exploration_policy,\n",
    "    number_of_gaussians=number_of_gaussians,\n",
    "    action_dimension=action_dimension,\n",
    ")\n",
    "loss = srl.losses.GlobalPolicyGradientLoss(value_function=value_function)\n",
    "\n",
    "protocol = srl.agents.MPIActorCriticAgent(\n",
    "    particle_type=0,\n",
    "    network=network,\n",
    "    task=task,\n",
    "    observable=obs,\n",
    "    loss=loss,\n",
    ")\n",
    "rl_trainer = Trainer([protocol])"
   ]
  },
  {
   "cell_type": "code",
   "execution_count": 5,
   "metadata": {},
   "outputs": [
    {
     "data": {
      "application/vnd.jupyter.widget-view+json": {
       "model_id": "00214dfdbe7145c390eef19fa9d0689a",
       "version_major": 2,
       "version_minor": 0
      },
      "text/plain": [
       "Output()"
      ]
     },
     "metadata": {},
     "output_type": "display_data"
    },
    {
     "data": {
      "text/html": [
       "<pre style=\"white-space:pre;overflow-x:auto;line-height:normal;font-family:Menlo,'DejaVu Sans Mono',consolas,'Courier New',monospace\">self.current_action=MPIAction(amplitudes=array([0.0009516, 0.01     ], dtype=float32), frequencies=array([0., 0.], \n",
       "dtype=float32), phases=array([22.797235  ,  0.07230361], dtype=float32), offsets=array([0.02154703, 0.00950223], \n",
       "dtype=float32))\n",
       "</pre>\n"
      ],
      "text/plain": [
       "self.current_action=MPIAction(amplitudes=array([0.0009516, 0.01     ], dtype=float32), frequencies=array([0., 0.], \n",
       "dtype=float32), phases=array([22.797235  ,  0.07230361], dtype=float32), offsets=array([0.02154703, 0.00950223], \n",
       "dtype=float32))\n"
      ]
     },
     "metadata": {},
     "output_type": "display_data"
    },
    {
     "data": {
      "text/html": [
       "<pre style=\"white-space:pre;overflow-x:auto;line-height:normal;font-family:Menlo,'DejaVu Sans Mono',consolas,'Courier New',monospace\">self.current_action=MPIAction(amplitudes=array([0.00206274, 0.01      ], dtype=float32), \n",
       "frequencies=array([4.7349296, 1.6970372], dtype=float32), phases=array([25.479315 ,  2.6517944], dtype=float32), \n",
       "offsets=array([0.02041507, 0.01131005], dtype=float32))\n",
       "</pre>\n"
      ],
      "text/plain": [
       "self.current_action=MPIAction(amplitudes=array([0.00206274, 0.01      ], dtype=float32), \n",
       "frequencies=array([4.7349296, 1.6970372], dtype=float32), phases=array([25.479315 ,  2.6517944], dtype=float32), \n",
       "offsets=array([0.02041507, 0.01131005], dtype=float32))\n"
      ]
     },
     "metadata": {},
     "output_type": "display_data"
    },
    {
     "data": {
      "text/html": [
       "<pre style=\"white-space:pre;overflow-x:auto;line-height:normal;font-family:Menlo,'DejaVu Sans Mono',consolas,'Courier New',monospace\">self.current_action=MPIAction(amplitudes=array([1.3163175e-03, 1.7266397e-07], dtype=float32), \n",
       "frequencies=array([1.4264587e-03, 1.9456568e+01], dtype=float32), phases=array([19.128511, 28.050154], \n",
       "dtype=float32), offsets=array([0.01428498, 0.02212538], dtype=float32))\n",
       "</pre>\n"
      ],
      "text/plain": [
       "self.current_action=MPIAction(amplitudes=array([1.3163175e-03, 1.7266397e-07], dtype=float32), \n",
       "frequencies=array([1.4264587e-03, 1.9456568e+01], dtype=float32), phases=array([19.128511, 28.050154], \n",
       "dtype=float32), offsets=array([0.01428498, 0.02212538], dtype=float32))\n"
      ]
     },
     "metadata": {},
     "output_type": "display_data"
    },
    {
     "data": {
      "text/html": [
       "<pre style=\"white-space:pre;overflow-x:auto;line-height:normal;font-family:Menlo,'DejaVu Sans Mono',consolas,'Courier New',monospace\">self.current_action=MPIAction(amplitudes=array([0.00398466, 0.01      ], dtype=float32), \n",
       "frequencies=array([1.8039424, 4.8124647], dtype=float32), phases=array([21.396143,  0.      ], dtype=float32), \n",
       "offsets=array([0.02239195, 0.00891743], dtype=float32))\n",
       "</pre>\n"
      ],
      "text/plain": [
       "self.current_action=MPIAction(amplitudes=array([0.00398466, 0.01      ], dtype=float32), \n",
       "frequencies=array([1.8039424, 4.8124647], dtype=float32), phases=array([21.396143,  0.      ], dtype=float32), \n",
       "offsets=array([0.02239195, 0.00891743], dtype=float32))\n"
      ]
     },
     "metadata": {},
     "output_type": "display_data"
    },
    {
     "data": {
      "text/html": [
       "<pre style=\"white-space:pre;overflow-x:auto;line-height:normal;font-family:Menlo,'DejaVu Sans Mono',consolas,'Courier New',monospace\">self.current_action=MPIAction(amplitudes=array([0.00224163, 0.01      ], dtype=float32), frequencies=array([0., \n",
       "0.], dtype=float32), phases=array([9.735164, 0.      ], dtype=float32), offsets=array([0.01014997, 0.00712896], \n",
       "dtype=float32))\n",
       "</pre>\n"
      ],
      "text/plain": [
       "self.current_action=MPIAction(amplitudes=array([0.00224163, 0.01      ], dtype=float32), frequencies=array([0., \n",
       "0.], dtype=float32), phases=array([9.735164, 0.      ], dtype=float32), offsets=array([0.01014997, 0.00712896], \n",
       "dtype=float32))\n"
      ]
     },
     "metadata": {},
     "output_type": "display_data"
    },
    {
     "data": {
      "text/html": [
       "<pre style=\"white-space:pre;overflow-x:auto;line-height:normal;font-family:Menlo,'DejaVu Sans Mono',consolas,'Courier New',monospace\">self.current_action=MPIAction(amplitudes=array([2.1128693e-04, 1.7798847e-07], dtype=float32), \n",
       "frequencies=array([7.469255e-04, 1.778058e+01], dtype=float32), phases=array([12.006134,  8.747057], \n",
       "dtype=float32), offsets=array([0.00747838, 0.01403555], dtype=float32))\n",
       "</pre>\n"
      ],
      "text/plain": [
       "self.current_action=MPIAction(amplitudes=array([2.1128693e-04, 1.7798847e-07], dtype=float32), \n",
       "frequencies=array([7.469255e-04, 1.778058e+01], dtype=float32), phases=array([12.006134,  8.747057], \n",
       "dtype=float32), offsets=array([0.00747838, 0.01403555], dtype=float32))\n"
      ]
     },
     "metadata": {},
     "output_type": "display_data"
    },
    {
     "data": {
      "text/html": [
       "<pre style=\"white-space:pre;overflow-x:auto;line-height:normal;font-family:Menlo,'DejaVu Sans Mono',consolas,'Courier New',monospace\">self.current_action=MPIAction(amplitudes=array([4.5880293e-03, 5.2130343e-07], dtype=float32), \n",
       "frequencies=array([4.5147070e-04, 1.7750648e+01], dtype=float32), phases=array([14.711668, 21.534382], \n",
       "dtype=float32), offsets=array([0.00684861, 0.01740391], dtype=float32))\n",
       "</pre>\n"
      ],
      "text/plain": [
       "self.current_action=MPIAction(amplitudes=array([4.5880293e-03, 5.2130343e-07], dtype=float32), \n",
       "frequencies=array([4.5147070e-04, 1.7750648e+01], dtype=float32), phases=array([14.711668, 21.534382], \n",
       "dtype=float32), offsets=array([0.00684861, 0.01740391], dtype=float32))\n"
      ]
     },
     "metadata": {},
     "output_type": "display_data"
    },
    {
     "data": {
      "text/html": [
       "<pre style=\"white-space:pre;overflow-x:auto;line-height:normal;font-family:Menlo,'DejaVu Sans Mono',consolas,'Courier New',monospace\">self.current_action=MPIAction(amplitudes=array([0.00164824, 0.01      ], dtype=float32), \n",
       "frequencies=array([4.7905035 , 0.77581865], dtype=float32), phases=array([16.274681,  0.      ], dtype=float32), \n",
       "offsets=array([0.01864404, 0.0067842 ], dtype=float32))\n",
       "</pre>\n"
      ],
      "text/plain": [
       "self.current_action=MPIAction(amplitudes=array([0.00164824, 0.01      ], dtype=float32), \n",
       "frequencies=array([4.7905035 , 0.77581865], dtype=float32), phases=array([16.274681,  0.      ], dtype=float32), \n",
       "offsets=array([0.01864404, 0.0067842 ], dtype=float32))\n"
      ]
     },
     "metadata": {},
     "output_type": "display_data"
    },
    {
     "data": {
      "text/html": [
       "<pre style=\"white-space:pre;overflow-x:auto;line-height:normal;font-family:Menlo,'DejaVu Sans Mono',consolas,'Courier New',monospace\">self.current_action=MPIAction(amplitudes=array([0.00221313, 0.01      ], dtype=float32), frequencies=array([0., \n",
       "0.], dtype=float32), phases=array([12.969967  ,  0.53253525], dtype=float32), offsets=array([0.01056302, \n",
       "0.00673092], dtype=float32))\n",
       "</pre>\n"
      ],
      "text/plain": [
       "self.current_action=MPIAction(amplitudes=array([0.00221313, 0.01      ], dtype=float32), frequencies=array([0., \n",
       "0.], dtype=float32), phases=array([12.969967  ,  0.53253525], dtype=float32), offsets=array([0.01056302, \n",
       "0.00673092], dtype=float32))\n"
      ]
     },
     "metadata": {},
     "output_type": "display_data"
    },
    {
     "data": {
      "text/html": [
       "<pre style=\"white-space:pre;overflow-x:auto;line-height:normal;font-family:Menlo,'DejaVu Sans Mono',consolas,'Courier New',monospace\">self.current_action=MPIAction(amplitudes=array([0.00243, 0.01   ], dtype=float32), frequencies=array([0., 0.], \n",
       "dtype=float32), phases=array([15.581722,  0.      ], dtype=float32), offsets=array([0.01359374, 0.0073558 ], \n",
       "dtype=float32))\n",
       "</pre>\n"
      ],
      "text/plain": [
       "self.current_action=MPIAction(amplitudes=array([0.00243, 0.01   ], dtype=float32), frequencies=array([0., 0.], \n",
       "dtype=float32), phases=array([15.581722,  0.      ], dtype=float32), offsets=array([0.01359374, 0.0073558 ], \n",
       "dtype=float32))\n"
      ]
     },
     "metadata": {},
     "output_type": "display_data"
    },
    {
     "data": {
      "text/html": [
       "<pre style=\"white-space:pre;overflow-x:auto;line-height:normal;font-family:Menlo,'DejaVu Sans Mono',consolas,'Courier New',monospace\">/tikhome/mgern/.local/lib/python3.10/site-packages/jax/_src/numpy/lax_numpy.py:4387: UserWarning: Explicitly \n",
       "requested dtype float64 requested in asarray is not available, and will be truncated to dtype float32. To enable \n",
       "more dtypes, set the jax_enable_x64 configuration option or the JAX_ENABLE_X64 shell environment variable. See \n",
       "https://github.com/google/jax#current-gotchas for more.\n",
       "  start = asarray(start, dtype=computation_dtype)\n",
       "</pre>\n"
      ],
      "text/plain": [
       "/tikhome/mgern/.local/lib/python3.10/site-packages/jax/_src/numpy/lax_numpy.py:4387: UserWarning: Explicitly \n",
       "requested dtype float64 requested in asarray is not available, and will be truncated to dtype float32. To enable \n",
       "more dtypes, set the jax_enable_x64 configuration option or the JAX_ENABLE_X64 shell environment variable. See \n",
       "https://github.com/google/jax#current-gotchas for more.\n",
       "  start = asarray(start, dtype=computation_dtype)\n"
      ]
     },
     "metadata": {},
     "output_type": "display_data"
    },
    {
     "data": {
      "text/html": [
       "<pre style=\"white-space:pre;overflow-x:auto;line-height:normal;font-family:Menlo,'DejaVu Sans Mono',consolas,'Courier New',monospace\">/tikhome/mgern/.local/lib/python3.10/site-packages/jax/_src/numpy/lax_numpy.py:4388: UserWarning: Explicitly \n",
       "requested dtype float64 requested in asarray is not available, and will be truncated to dtype float32. To enable \n",
       "more dtypes, set the jax_enable_x64 configuration option or the JAX_ENABLE_X64 shell environment variable. See \n",
       "https://github.com/google/jax#current-gotchas for more.\n",
       "  stop = asarray(stop, dtype=computation_dtype)\n",
       "</pre>\n"
      ],
      "text/plain": [
       "/tikhome/mgern/.local/lib/python3.10/site-packages/jax/_src/numpy/lax_numpy.py:4388: UserWarning: Explicitly \n",
       "requested dtype float64 requested in asarray is not available, and will be truncated to dtype float32. To enable \n",
       "more dtypes, set the jax_enable_x64 configuration option or the JAX_ENABLE_X64 shell environment variable. See \n",
       "https://github.com/google/jax#current-gotchas for more.\n",
       "  stop = asarray(stop, dtype=computation_dtype)\n"
      ]
     },
     "metadata": {},
     "output_type": "display_data"
    },
    {
     "data": {
      "text/html": [
       "<pre style=\"white-space:pre;overflow-x:auto;line-height:normal;font-family:Menlo,'DejaVu Sans Mono',consolas,'Courier New',monospace\">/tikhome/mgern/.local/lib/python3.10/site-packages/jax/_src/numpy/lax_numpy.py:4397: UserWarning: Explicitly \n",
       "requested dtype float64 requested in array is not available, and will be truncated to dtype float32. To enable more\n",
       "dtypes, set the jax_enable_x64 configuration option or the JAX_ENABLE_X64 shell environment variable. See \n",
       "https://github.com/google/jax#current-gotchas for more.\n",
       "  delta: Array = lax.convert_element_type(stop - start, computation_dtype) / array(div, dtype=computation_dtype)\n",
       "</pre>\n"
      ],
      "text/plain": [
       "/tikhome/mgern/.local/lib/python3.10/site-packages/jax/_src/numpy/lax_numpy.py:4397: UserWarning: Explicitly \n",
       "requested dtype float64 requested in array is not available, and will be truncated to dtype float32. To enable more\n",
       "dtypes, set the jax_enable_x64 configuration option or the JAX_ENABLE_X64 shell environment variable. See \n",
       "https://github.com/google/jax#current-gotchas for more.\n",
       "  delta: Array = lax.convert_element_type(stop - start, computation_dtype) / array(div, dtype=computation_dtype)\n"
      ]
     },
     "metadata": {},
     "output_type": "display_data"
    },
    {
     "data": {
      "text/html": [
       "<pre style=\"white-space:pre;overflow-x:auto;line-height:normal;font-family:Menlo,'DejaVu Sans Mono',consolas,'Courier New',monospace\">/tikhome/mgern/.local/lib/python3.10/site-packages/jax/_src/numpy/lax_numpy.py:4403: UserWarning: Explicitly \n",
       "requested dtype float64 requested in array is not available, and will be truncated to dtype float32. To enable more\n",
       "dtypes, set the jax_enable_x64 configuration option or the JAX_ENABLE_X64 shell environment variable. See \n",
       "https://github.com/google/jax#current-gotchas for more.\n",
       "  step = reshape(lax.iota(real_dtype, div), iota_shape) / array(div, real_dtype)\n",
       "</pre>\n"
      ],
      "text/plain": [
       "/tikhome/mgern/.local/lib/python3.10/site-packages/jax/_src/numpy/lax_numpy.py:4403: UserWarning: Explicitly \n",
       "requested dtype float64 requested in array is not available, and will be truncated to dtype float32. To enable more\n",
       "dtypes, set the jax_enable_x64 configuration option or the JAX_ENABLE_X64 shell environment variable. See \n",
       "https://github.com/google/jax#current-gotchas for more.\n",
       "  step = reshape(lax.iota(real_dtype, div), iota_shape) / array(div, real_dtype)\n"
      ]
     },
     "metadata": {},
     "output_type": "display_data"
    },
    {
     "data": {
      "text/html": [
       "<pre style=\"white-space:pre;overflow-x:auto;line-height:normal;font-family:Menlo,'DejaVu Sans Mono',consolas,'Courier New',monospace\">/tikhome/mgern/.local/lib/python3.10/site-packages/jax/_src/numpy/array_methods.py:69: UserWarning: Explicitly \n",
       "requested dtype float64 requested in astype is not available, and will be truncated to dtype float32. To enable \n",
       "more dtypes, set the jax_enable_x64 configuration option or the JAX_ENABLE_X64 shell environment variable. See \n",
       "https://github.com/google/jax#current-gotchas for more.\n",
       "  return lax_numpy.astype(arr, dtype, copy=copy, device=device)\n",
       "</pre>\n"
      ],
      "text/plain": [
       "/tikhome/mgern/.local/lib/python3.10/site-packages/jax/_src/numpy/array_methods.py:69: UserWarning: Explicitly \n",
       "requested dtype float64 requested in astype is not available, and will be truncated to dtype float32. To enable \n",
       "more dtypes, set the jax_enable_x64 configuration option or the JAX_ENABLE_X64 shell environment variable. See \n",
       "https://github.com/google/jax#current-gotchas for more.\n",
       "  return lax_numpy.astype(arr, dtype, copy=copy, device=device)\n"
      ]
     },
     "metadata": {},
     "output_type": "display_data"
    },
    {
     "data": {
      "text/html": [
       "<pre style=\"white-space:pre;overflow-x:auto;line-height:normal;font-family:Menlo,'DejaVu Sans Mono',consolas,'Courier New',monospace\">/tikhome/mgern/.local/lib/python3.10/site-packages/jax/_src/numpy/lax_numpy.py:4387: UserWarning: Explicitly \n",
       "requested dtype float64 requested in asarray is not available, and will be truncated to dtype float32. To enable \n",
       "more dtypes, set the jax_enable_x64 configuration option or the JAX_ENABLE_X64 shell environment variable. See \n",
       "https://github.com/google/jax#current-gotchas for more.\n",
       "  start = asarray(start, dtype=computation_dtype)\n",
       "</pre>\n"
      ],
      "text/plain": [
       "/tikhome/mgern/.local/lib/python3.10/site-packages/jax/_src/numpy/lax_numpy.py:4387: UserWarning: Explicitly \n",
       "requested dtype float64 requested in asarray is not available, and will be truncated to dtype float32. To enable \n",
       "more dtypes, set the jax_enable_x64 configuration option or the JAX_ENABLE_X64 shell environment variable. See \n",
       "https://github.com/google/jax#current-gotchas for more.\n",
       "  start = asarray(start, dtype=computation_dtype)\n"
      ]
     },
     "metadata": {},
     "output_type": "display_data"
    },
    {
     "data": {
      "text/html": [
       "<pre style=\"white-space:pre;overflow-x:auto;line-height:normal;font-family:Menlo,'DejaVu Sans Mono',consolas,'Courier New',monospace\">/tikhome/mgern/.local/lib/python3.10/site-packages/jax/_src/numpy/array_methods.py:69: UserWarning: Explicitly \n",
       "requested dtype float64 requested in astype is not available, and will be truncated to dtype float32. To enable \n",
       "more dtypes, set the jax_enable_x64 configuration option or the JAX_ENABLE_X64 shell environment variable. See \n",
       "https://github.com/google/jax#current-gotchas for more.\n",
       "  return lax_numpy.astype(arr, dtype, copy=copy, device=device)\n",
       "</pre>\n"
      ],
      "text/plain": [
       "/tikhome/mgern/.local/lib/python3.10/site-packages/jax/_src/numpy/array_methods.py:69: UserWarning: Explicitly \n",
       "requested dtype float64 requested in astype is not available, and will be truncated to dtype float32. To enable \n",
       "more dtypes, set the jax_enable_x64 configuration option or the JAX_ENABLE_X64 shell environment variable. See \n",
       "https://github.com/google/jax#current-gotchas for more.\n",
       "  return lax_numpy.astype(arr, dtype, copy=copy, device=device)\n"
      ]
     },
     "metadata": {},
     "output_type": "display_data"
    },
    {
     "data": {
      "text/html": [
       "<pre style=\"white-space:pre;overflow-x:auto;line-height:normal;font-family:Menlo,'DejaVu Sans Mono',consolas,'Courier New',monospace\">/tikhome/mgern/.local/lib/python3.10/site-packages/jax/_src/numpy/lax_numpy.py:4387: UserWarning: Explicitly \n",
       "requested dtype float64 requested in asarray is not available, and will be truncated to dtype float32. To enable \n",
       "more dtypes, set the jax_enable_x64 configuration option or the JAX_ENABLE_X64 shell environment variable. See \n",
       "https://github.com/google/jax#current-gotchas for more.\n",
       "  start = asarray(start, dtype=computation_dtype)\n",
       "</pre>\n"
      ],
      "text/plain": [
       "/tikhome/mgern/.local/lib/python3.10/site-packages/jax/_src/numpy/lax_numpy.py:4387: UserWarning: Explicitly \n",
       "requested dtype float64 requested in asarray is not available, and will be truncated to dtype float32. To enable \n",
       "more dtypes, set the jax_enable_x64 configuration option or the JAX_ENABLE_X64 shell environment variable. See \n",
       "https://github.com/google/jax#current-gotchas for more.\n",
       "  start = asarray(start, dtype=computation_dtype)\n"
      ]
     },
     "metadata": {},
     "output_type": "display_data"
    },
    {
     "data": {
      "text/html": [
       "<pre style=\"white-space:pre;overflow-x:auto;line-height:normal;font-family:Menlo,'DejaVu Sans Mono',consolas,'Courier New',monospace\">/tikhome/mgern/.local/lib/python3.10/site-packages/jax/_src/numpy/lax_numpy.py:4388: UserWarning: Explicitly \n",
       "requested dtype float64 requested in asarray is not available, and will be truncated to dtype float32. To enable \n",
       "more dtypes, set the jax_enable_x64 configuration option or the JAX_ENABLE_X64 shell environment variable. See \n",
       "https://github.com/google/jax#current-gotchas for more.\n",
       "  stop = asarray(stop, dtype=computation_dtype)\n",
       "</pre>\n"
      ],
      "text/plain": [
       "/tikhome/mgern/.local/lib/python3.10/site-packages/jax/_src/numpy/lax_numpy.py:4388: UserWarning: Explicitly \n",
       "requested dtype float64 requested in asarray is not available, and will be truncated to dtype float32. To enable \n",
       "more dtypes, set the jax_enable_x64 configuration option or the JAX_ENABLE_X64 shell environment variable. See \n",
       "https://github.com/google/jax#current-gotchas for more.\n",
       "  stop = asarray(stop, dtype=computation_dtype)\n"
      ]
     },
     "metadata": {},
     "output_type": "display_data"
    },
    {
     "data": {
      "text/html": [
       "<pre style=\"white-space:pre;overflow-x:auto;line-height:normal;font-family:Menlo,'DejaVu Sans Mono',consolas,'Courier New',monospace\">/tikhome/mgern/.local/lib/python3.10/site-packages/jax/_src/numpy/lax_numpy.py:4397: UserWarning: Explicitly \n",
       "requested dtype float64 requested in array is not available, and will be truncated to dtype float32. To enable more\n",
       "dtypes, set the jax_enable_x64 configuration option or the JAX_ENABLE_X64 shell environment variable. See \n",
       "https://github.com/google/jax#current-gotchas for more.\n",
       "  delta: Array = lax.convert_element_type(stop - start, computation_dtype) / array(div, dtype=computation_dtype)\n",
       "</pre>\n"
      ],
      "text/plain": [
       "/tikhome/mgern/.local/lib/python3.10/site-packages/jax/_src/numpy/lax_numpy.py:4397: UserWarning: Explicitly \n",
       "requested dtype float64 requested in array is not available, and will be truncated to dtype float32. To enable more\n",
       "dtypes, set the jax_enable_x64 configuration option or the JAX_ENABLE_X64 shell environment variable. See \n",
       "https://github.com/google/jax#current-gotchas for more.\n",
       "  delta: Array = lax.convert_element_type(stop - start, computation_dtype) / array(div, dtype=computation_dtype)\n"
      ]
     },
     "metadata": {},
     "output_type": "display_data"
    },
    {
     "data": {
      "text/html": [
       "<pre style=\"white-space:pre;overflow-x:auto;line-height:normal;font-family:Menlo,'DejaVu Sans Mono',consolas,'Courier New',monospace\">/tikhome/mgern/.local/lib/python3.10/site-packages/jax/_src/numpy/lax_numpy.py:4403: UserWarning: Explicitly \n",
       "requested dtype float64 requested in array is not available, and will be truncated to dtype float32. To enable more\n",
       "dtypes, set the jax_enable_x64 configuration option or the JAX_ENABLE_X64 shell environment variable. See \n",
       "https://github.com/google/jax#current-gotchas for more.\n",
       "  step = reshape(lax.iota(real_dtype, div), iota_shape) / array(div, real_dtype)\n",
       "</pre>\n"
      ],
      "text/plain": [
       "/tikhome/mgern/.local/lib/python3.10/site-packages/jax/_src/numpy/lax_numpy.py:4403: UserWarning: Explicitly \n",
       "requested dtype float64 requested in array is not available, and will be truncated to dtype float32. To enable more\n",
       "dtypes, set the jax_enable_x64 configuration option or the JAX_ENABLE_X64 shell environment variable. See \n",
       "https://github.com/google/jax#current-gotchas for more.\n",
       "  step = reshape(lax.iota(real_dtype, div), iota_shape) / array(div, real_dtype)\n"
      ]
     },
     "metadata": {},
     "output_type": "display_data"
    },
    {
     "data": {
      "text/html": [
       "<pre style=\"white-space:pre;overflow-x:auto;line-height:normal;font-family:Menlo,'DejaVu Sans Mono',consolas,'Courier New',monospace\">/tikhome/mgern/.local/lib/python3.10/site-packages/jax/_src/numpy/array_methods.py:69: UserWarning: Explicitly \n",
       "requested dtype float64 requested in astype is not available, and will be truncated to dtype float32. To enable \n",
       "more dtypes, set the jax_enable_x64 configuration option or the JAX_ENABLE_X64 shell environment variable. See \n",
       "https://github.com/google/jax#current-gotchas for more.\n",
       "  return lax_numpy.astype(arr, dtype, copy=copy, device=device)\n",
       "</pre>\n"
      ],
      "text/plain": [
       "/tikhome/mgern/.local/lib/python3.10/site-packages/jax/_src/numpy/array_methods.py:69: UserWarning: Explicitly \n",
       "requested dtype float64 requested in astype is not available, and will be truncated to dtype float32. To enable \n",
       "more dtypes, set the jax_enable_x64 configuration option or the JAX_ENABLE_X64 shell environment variable. See \n",
       "https://github.com/google/jax#current-gotchas for more.\n",
       "  return lax_numpy.astype(arr, dtype, copy=copy, device=device)\n"
      ]
     },
     "metadata": {},
     "output_type": "display_data"
    },
    {
     "data": {
      "text/html": [
       "<pre style=\"white-space:pre;overflow-x:auto;line-height:normal;font-family:Menlo,'DejaVu Sans Mono',consolas,'Courier New',monospace\">/tikhome/mgern/.local/lib/python3.10/site-packages/jax/_src/numpy/lax_numpy.py:4387: UserWarning: Explicitly \n",
       "requested dtype float64 requested in asarray is not available, and will be truncated to dtype float32. To enable \n",
       "more dtypes, set the jax_enable_x64 configuration option or the JAX_ENABLE_X64 shell environment variable. See \n",
       "https://github.com/google/jax#current-gotchas for more.\n",
       "  start = asarray(start, dtype=computation_dtype)\n",
       "</pre>\n"
      ],
      "text/plain": [
       "/tikhome/mgern/.local/lib/python3.10/site-packages/jax/_src/numpy/lax_numpy.py:4387: UserWarning: Explicitly \n",
       "requested dtype float64 requested in asarray is not available, and will be truncated to dtype float32. To enable \n",
       "more dtypes, set the jax_enable_x64 configuration option or the JAX_ENABLE_X64 shell environment variable. See \n",
       "https://github.com/google/jax#current-gotchas for more.\n",
       "  start = asarray(start, dtype=computation_dtype)\n"
      ]
     },
     "metadata": {},
     "output_type": "display_data"
    },
    {
     "data": {
      "text/html": [
       "<pre style=\"white-space:pre;overflow-x:auto;line-height:normal;font-family:Menlo,'DejaVu Sans Mono',consolas,'Courier New',monospace\">/tikhome/mgern/.local/lib/python3.10/site-packages/jax/_src/numpy/lax_numpy.py:4388: UserWarning: Explicitly \n",
       "requested dtype float64 requested in asarray is not available, and will be truncated to dtype float32. To enable \n",
       "more dtypes, set the jax_enable_x64 configuration option or the JAX_ENABLE_X64 shell environment variable. See \n",
       "https://github.com/google/jax#current-gotchas for more.\n",
       "  stop = asarray(stop, dtype=computation_dtype)\n",
       "</pre>\n"
      ],
      "text/plain": [
       "/tikhome/mgern/.local/lib/python3.10/site-packages/jax/_src/numpy/lax_numpy.py:4388: UserWarning: Explicitly \n",
       "requested dtype float64 requested in asarray is not available, and will be truncated to dtype float32. To enable \n",
       "more dtypes, set the jax_enable_x64 configuration option or the JAX_ENABLE_X64 shell environment variable. See \n",
       "https://github.com/google/jax#current-gotchas for more.\n",
       "  stop = asarray(stop, dtype=computation_dtype)\n"
      ]
     },
     "metadata": {},
     "output_type": "display_data"
    },
    {
     "data": {
      "text/html": [
       "<pre style=\"white-space:pre;overflow-x:auto;line-height:normal;font-family:Menlo,'DejaVu Sans Mono',consolas,'Courier New',monospace\">/tikhome/mgern/.local/lib/python3.10/site-packages/jax/_src/numpy/lax_numpy.py:4413: UserWarning: Explicitly \n",
       "requested dtype float64 requested in asarray is not available, and will be truncated to dtype float32. To enable \n",
       "more dtypes, set the jax_enable_x64 configuration option or the JAX_ENABLE_X64 shell environment variable. See \n",
       "https://github.com/google/jax#current-gotchas for more.\n",
       "  delta = asarray(nan if endpoint else stop - start, dtype=computation_dtype)\n",
       "</pre>\n"
      ],
      "text/plain": [
       "/tikhome/mgern/.local/lib/python3.10/site-packages/jax/_src/numpy/lax_numpy.py:4413: UserWarning: Explicitly \n",
       "requested dtype float64 requested in asarray is not available, and will be truncated to dtype float32. To enable \n",
       "more dtypes, set the jax_enable_x64 configuration option or the JAX_ENABLE_X64 shell environment variable. See \n",
       "https://github.com/google/jax#current-gotchas for more.\n",
       "  delta = asarray(nan if endpoint else stop - start, dtype=computation_dtype)\n"
      ]
     },
     "metadata": {},
     "output_type": "display_data"
    },
    {
     "data": {
      "text/html": [
       "<pre style=\"white-space:pre;overflow-x:auto;line-height:normal;font-family:Menlo,'DejaVu Sans Mono',consolas,'Courier New',monospace\">self.current_action=MPIAction(amplitudes=array([9.9289304e-05, 1.2108101e-05], dtype=float32), \n",
       "frequencies=array([0., 0.], dtype=float32), phases=array([0.00048955, 0.        ], dtype=float32), \n",
       "offsets=array([8.1646e-05, 0.0000e+00], dtype=float32))\n",
       "</pre>\n"
      ],
      "text/plain": [
       "self.current_action=MPIAction(amplitudes=array([9.9289304e-05, 1.2108101e-05], dtype=float32), \n",
       "frequencies=array([0., 0.], dtype=float32), phases=array([0.00048955, 0.        ], dtype=float32), \n",
       "offsets=array([8.1646e-05, 0.0000e+00], dtype=float32))\n"
      ]
     },
     "metadata": {},
     "output_type": "display_data"
    },
    {
     "data": {
      "text/html": [
       "<pre style=\"white-space:pre;overflow-x:auto;line-height:normal;font-family:Menlo,'DejaVu Sans Mono',consolas,'Courier New',monospace\">self.current_action=MPIAction(amplitudes=array([8.6348351e-05, 1.2388363e-05], dtype=float32), \n",
       "frequencies=array([0.00041701, 0.00035247], dtype=float32), phases=array([0.        , 0.03373945], dtype=float32), \n",
       "offsets=array([0.0000000e+00, 2.8297154e-05], dtype=float32))\n",
       "</pre>\n"
      ],
      "text/plain": [
       "self.current_action=MPIAction(amplitudes=array([8.6348351e-05, 1.2388363e-05], dtype=float32), \n",
       "frequencies=array([0.00041701, 0.00035247], dtype=float32), phases=array([0.        , 0.03373945], dtype=float32), \n",
       "offsets=array([0.0000000e+00, 2.8297154e-05], dtype=float32))\n"
      ]
     },
     "metadata": {},
     "output_type": "display_data"
    },
    {
     "data": {
      "text/html": [
       "<pre style=\"white-space:pre;overflow-x:auto;line-height:normal;font-family:Menlo,'DejaVu Sans Mono',consolas,'Courier New',monospace\">self.current_action=MPIAction(amplitudes=array([7.7154407e-05, 1.3054408e-05], dtype=float32), \n",
       "frequencies=array([0.        , 0.00019596], dtype=float32), phases=array([0.        , 0.01982396], dtype=float32), \n",
       "offsets=array([0., 0.], dtype=float32))\n",
       "</pre>\n"
      ],
      "text/plain": [
       "self.current_action=MPIAction(amplitudes=array([7.7154407e-05, 1.3054408e-05], dtype=float32), \n",
       "frequencies=array([0.        , 0.00019596], dtype=float32), phases=array([0.        , 0.01982396], dtype=float32), \n",
       "offsets=array([0., 0.], dtype=float32))\n"
      ]
     },
     "metadata": {},
     "output_type": "display_data"
    },
    {
     "data": {
      "text/html": [
       "<pre style=\"white-space:pre;overflow-x:auto;line-height:normal;font-family:Menlo,'DejaVu Sans Mono',consolas,'Courier New',monospace\">self.current_action=MPIAction(amplitudes=array([3.2302389e-05, 1.1733893e-05], dtype=float32), \n",
       "frequencies=array([0.01808855, 0.00147777], dtype=float32), phases=array([0.       , 0.0349041], dtype=float32), \n",
       "offsets=array([8.5189757e-05, 6.1792603e-06], dtype=float32))\n",
       "</pre>\n"
      ],
      "text/plain": [
       "self.current_action=MPIAction(amplitudes=array([3.2302389e-05, 1.1733893e-05], dtype=float32), \n",
       "frequencies=array([0.01808855, 0.00147777], dtype=float32), phases=array([0.       , 0.0349041], dtype=float32), \n",
       "offsets=array([8.5189757e-05, 6.1792603e-06], dtype=float32))\n"
      ]
     },
     "metadata": {},
     "output_type": "display_data"
    },
    {
     "data": {
      "text/html": [
       "<pre style=\"white-space:pre;overflow-x:auto;line-height:normal;font-family:Menlo,'DejaVu Sans Mono',consolas,'Courier New',monospace\">self.current_action=MPIAction(amplitudes=array([1.1883867e-04, 1.2505409e-05], dtype=float32), \n",
       "frequencies=array([0.0203278, 0.       ], dtype=float32), phases=array([0., 0.], dtype=float32), offsets=array([0.,\n",
       "0.], dtype=float32))\n",
       "</pre>\n"
      ],
      "text/plain": [
       "self.current_action=MPIAction(amplitudes=array([1.1883867e-04, 1.2505409e-05], dtype=float32), \n",
       "frequencies=array([0.0203278, 0.       ], dtype=float32), phases=array([0., 0.], dtype=float32), offsets=array([0.,\n",
       "0.], dtype=float32))\n"
      ]
     },
     "metadata": {},
     "output_type": "display_data"
    },
    {
     "data": {
      "text/html": [
       "<pre style=\"white-space:pre;overflow-x:auto;line-height:normal;font-family:Menlo,'DejaVu Sans Mono',consolas,'Courier New',monospace\">self.current_action=MPIAction(amplitudes=array([8.1602883e-07, 7.0606534e-06], dtype=float32), \n",
       "frequencies=array([0.00502931, 0.00486002], dtype=float32), phases=array([0., 0.], dtype=float32), \n",
       "offsets=array([0.0000000e+00, 4.7260373e-06], dtype=float32))\n",
       "</pre>\n"
      ],
      "text/plain": [
       "self.current_action=MPIAction(amplitudes=array([8.1602883e-07, 7.0606534e-06], dtype=float32), \n",
       "frequencies=array([0.00502931, 0.00486002], dtype=float32), phases=array([0., 0.], dtype=float32), \n",
       "offsets=array([0.0000000e+00, 4.7260373e-06], dtype=float32))\n"
      ]
     },
     "metadata": {},
     "output_type": "display_data"
    },
    {
     "data": {
      "text/html": [
       "<pre style=\"white-space:pre;overflow-x:auto;line-height:normal;font-family:Menlo,'DejaVu Sans Mono',consolas,'Courier New',monospace\">self.current_action=MPIAction(amplitudes=array([5.886445e-06, 5.714120e-06], dtype=float32), \n",
       "frequencies=array([0.0048357 , 0.00422619], dtype=float32), phases=array([0.04808242, 0.        ], dtype=float32), \n",
       "offsets=array([0.0000000e+00, 2.8312818e-06], dtype=float32))\n",
       "</pre>\n"
      ],
      "text/plain": [
       "self.current_action=MPIAction(amplitudes=array([5.886445e-06, 5.714120e-06], dtype=float32), \n",
       "frequencies=array([0.0048357 , 0.00422619], dtype=float32), phases=array([0.04808242, 0.        ], dtype=float32), \n",
       "offsets=array([0.0000000e+00, 2.8312818e-06], dtype=float32))\n"
      ]
     },
     "metadata": {},
     "output_type": "display_data"
    }
   ],
   "source": [
    "rl_trainer.perform_rl_training(system_runner, 20, 10)"
   ]
  }
 ],
 "metadata": {
  "kernelspec": {
   "display_name": "Python 3",
   "language": "python",
   "name": "python3"
  },
  "language_info": {
   "codemirror_mode": {
    "name": "ipython",
    "version": 3
   },
   "file_extension": ".py",
   "mimetype": "text/x-python",
   "name": "python",
   "nbconvert_exporter": "python",
   "pygments_lexer": "ipython3",
   "version": "3.10.12"
  }
 },
 "nbformat": 4,
 "nbformat_minor": 2
}
