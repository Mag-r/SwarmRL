{
 "cells": [
  {
   "cell_type": "code",
   "execution_count": 5,
   "metadata": {},
   "outputs": [],
   "source": [
    "import cv2\n",
    "import os\n",
    "from tqdm import tqdm"
   ]
  },
  {
   "cell_type": "code",
   "execution_count": 6,
   "metadata": {},
   "outputs": [
    {
     "name": "stderr",
     "output_type": "stream",
     "text": [
      "Creating video:   0%|          | 0/61 [00:00<?, ?it/s]"
     ]
    },
    {
     "name": "stderr",
     "output_type": "stream",
     "text": [
      "Creating video: 100%|██████████| 61/61 [00:00<00:00, 142.67it/s]"
     ]
    },
    {
     "name": "stdout",
     "output_type": "stream",
     "text": [
      "Video saved as example_video.mp4\n"
     ]
    },
    {
     "name": "stderr",
     "output_type": "stream",
     "text": [
      "\n"
     ]
    }
   ],
   "source": [
    "# Set the directory containing the PNG files\n",
    "png_directory = \"images\"\n",
    "output_movie = \"example_video.mp4\"\n",
    "frame_rate = 30  # Set your desired frame rate\n",
    "\n",
    "# Get a list of all PNG files in the directory, sorted by name\n",
    "image_files = sorted([f for f in os.listdir(png_directory) if f.endswith(\".png\")])\n",
    "\n",
    "# Read the first image to get the width and height\n",
    "first_image = cv2.imread(os.path.join(png_directory, image_files[0]))\n",
    "height, width, layers = first_image.shape\n",
    "\n",
    "# Define the codec and create a VideoWriter object\n",
    "fourcc = cv2.VideoWriter_fourcc(*'mp4v')  # Codec for .mp4\n",
    "video_writer = cv2.VideoWriter(output_movie, fourcc, frame_rate, (width, height))\n",
    "\n",
    "# Iterate over each image and add it to the video\n",
    "for image_file in tqdm(image_files,desc=\"Creating video\"):\n",
    "    image_path = os.path.join(png_directory, image_file)\n",
    "    frame = cv2.imread(image_path)\n",
    "\n",
    "    # Check if the frame was successfully loaded\n",
    "    if frame is None:\n",
    "        print(f\"Error loading image {image_file}\")\n",
    "        continue\n",
    "    \n",
    "    video_writer.write(frame)  # Write the frame to the video\n",
    "\n",
    "# Release the video writer \n",
    "cv2.destroyAllWindows()\n",
    "video_writer.release()\n",
    "\n",
    "print(f\"Video saved as {output_movie}\")\n"
   ]
  }
 ],
 "metadata": {
  "kernelspec": {
   "display_name": "Python 3",
   "language": "python",
   "name": "python3"
  },
  "language_info": {
   "codemirror_mode": {
    "name": "ipython",
    "version": 3
   },
   "file_extension": ".py",
   "mimetype": "text/x-python",
   "name": "python",
   "nbconvert_exporter": "python",
   "pygments_lexer": "ipython3",
   "version": "3.10.12"
  }
 },
 "nbformat": 4,
 "nbformat_minor": 2
}
